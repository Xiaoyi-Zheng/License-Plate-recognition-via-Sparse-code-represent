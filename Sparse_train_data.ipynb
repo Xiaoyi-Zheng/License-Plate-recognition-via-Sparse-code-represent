{
 "metadata": {
  "language_info": {
   "codemirror_mode": {
    "name": "ipython",
    "version": 3
   },
   "file_extension": ".py",
   "mimetype": "text/x-python",
   "name": "python",
   "nbconvert_exporter": "python",
   "pygments_lexer": "ipython3",
   "version": "3.7.6-final"
  },
  "orig_nbformat": 2,
  "kernelspec": {
   "name": "python37664bitbaseconda85dc243cb34a406485e071b767da1e8b",
   "display_name": "Python 3.7.6 64-bit ('base': conda)"
  }
 },
 "nbformat": 4,
 "nbformat_minor": 2,
 "cells": [
  {
   "cell_type": "code",
   "execution_count": 8,
   "metadata": {},
   "outputs": [],
   "source": [
    "from __future__ import division, print_function\n",
    "from builtins import input\n",
    "\n",
    "import numpy as np\n",
    "import sporco as sp\n",
    "\n",
    "from sporco.dictlrn import prlcnscdl\n",
    "from sporco import util\n",
    "# from sporco import signal\n",
    "# from sporco import array\n",
    "from sporco import plot\n",
    "import matplotlib.pyplot as plt\n",
    "plot.config_notebook_plotting()\n",
    "import pandas as pd\n",
    "import pickle"
   ]
  },
  {
   "cell_type": "code",
   "execution_count": 9,
   "metadata": {},
   "outputs": [],
   "source": [
    "TRAIN_DIR_PREFIX = \"/home/harry/Projects/ece657_proj/train_data_\"\n",
    "TEST_DIR_PREFIX = \"/home/harry/Projects/ece657_proj/test_data_\"\n",
    "DATA_PATH = [\n",
    "    \"province\",\n",
    "    \"area\",\n",
    "    \"letter\"\n",
    "]\n",
    "\n",
    "npd = 5\n",
    "fltlmbd = 100"
   ]
  },
  {
   "cell_type": "code",
   "execution_count": 10,
   "metadata": {},
   "outputs": [],
   "source": [
    "def generate_dict(path):\n",
    "    data = pd.read_csv(path)\n",
    "    data = data.values\n",
    "    image=[]\n",
    "    for i in range(data.shape[0]):\n",
    "        i=data[i][0:-1].astype(\"float32\")/255\n",
    "        i=i.reshape(20,20)\n",
    "        image.append(i)\n",
    "\n",
    "    S = np.dstack(image)\n",
    "    \n",
    "    sl, sh = util.tikhonov_filter(S, fltlmbd, npd)\n",
    "\n",
    "    np.random.seed(12345)\n",
    "    D0 = np.random.randn(4, 4, 25)\n",
    "\n",
    "    lmbda = 0.2\n",
    "    opt = prlcnscdl.ConvBPDNDictLearn_Consensus.Options({\n",
    "            'Verbose': False, 'MaxMainIter': 250,\n",
    "            'CBPDN': {'rho': 50.0*lmbda + 0.5},\n",
    "            'CCMOD': {'rho': 10.0, 'ZeroMean': True}})\n",
    "    d = prlcnscdl.ConvBPDNDictLearn_Consensus(D0, sh, lmbda, opt)\n",
    "    D1 = d.solve()\n",
    "    print(\"ConvBPDNDictLearn solve time: %.2fs\" % d.timer.elapsed('solve'))\n",
    "    return D1.squeeze()"
   ]
  },
  {
   "cell_type": "code",
   "execution_count": 11,
   "metadata": {},
   "outputs": [],
   "source": [
    "from sporco.admm import cbpdn\n",
    "lmbda = 5e-2\n",
    "L = 1e2\n",
    "opt = cbpdn.ConvBPDN.Options({'Verbose': False, 'MaxMainIter': 200,\n",
    "                              'RelStopTol': 5e-3, 'AuxVarObj': False})\n"
   ]
  },
  {
   "cell_type": "code",
   "execution_count": 12,
   "metadata": {},
   "outputs": [],
   "source": [
    "from tqdm.notebook import tqdm\n",
    "from sporco.admm import cbpdn\n",
    "def parse_repre(img, D):\n",
    "    sl, sh = util.tikhonov_filter(img, fltlmbd, npd)\n",
    "    b = cbpdn.ConvBPDN(D, sh, lmbda, opt, dimK=0)\n",
    "    X = b.solve()\n",
    "    X = np.sum(abs(X), axis=b.cri.axisM).squeeze().flatten()\n",
    "    # print(X.shape)\n",
    "    return X\n",
    "\n",
    "def wrapper(path, D):\n",
    "    data = pd.read_csv(path)\n",
    "    data = data.values\n",
    "    # print(data[0])\n",
    "    image=[]\n",
    "    for i in range(data.shape[0]):\n",
    "        i=data[i][0:-1].astype(\"float32\")/255\n",
    "        i=i.reshape(20,20)\n",
    "        image.append(i)\n",
    "\n",
    "    S = np.dstack(image)\n",
    "    \n",
    "    results = []\n",
    "    for im in image:\n",
    "        results.append(parse_repre(im, D))\n",
    "    results = np.vstack(results)\n",
    "    print(results.shape)\n",
    "\n",
    "    labels = data[:,-1].astype(\"int64\")\n",
    "    print(labels.shape)\n",
    "\n",
    "    results = np.column_stack((results, labels))\n",
    "    print(results.shape)\n",
    "\n",
    "    return results"
   ]
  },
  {
   "cell_type": "code",
   "execution_count": 87,
   "metadata": {
    "tags": []
   },
   "outputs": [
    {
     "output_type": "stream",
     "name": "stdout",
     "text": "ConvBPDNDictLearn solve time: 242.61s\nConvBPDNDictLearn solve time: 546.37s\nConvBPDNDictLearn solve time: 1037.86s\n(2223, 400)\n(2223,)\n(2223, 401)\n(5370, 400)\n(5370,)\n(5370, 401)\n(10540, 400)\n(10540,)\n(10540, 401)\n(556, 400)\n(556,)\n(556, 401)\n(1343, 400)\n(1343,)\n(1343, 401)\n(2635, 400)\n(2635,)\n(2635, 401)\n"
    }
   ],
   "source": [
    "for p in DATA_PATH:\n",
    "    dic = generate_dict(TRAIN_DIR_PREFIX+p+\".csv\")\n",
    "    with open(\"CCBRPDN_Dict_\"+p+\".obj\", 'wb') as f:\n",
    "        pickle.dump(dic, f)"
   ]
  },
  {
   "cell_type": "code",
   "execution_count": 13,
   "metadata": {
    "tags": []
   },
   "outputs": [
    {
     "output_type": "stream",
     "name": "stdout",
     "text": "(2223, 400)\n(2223,)\n(2223, 401)\n(5370, 400)\n(5370,)\n(5370, 401)\n(10540, 400)\n(10540,)\n(10540, 401)\n(556, 400)\n(556,)\n(556, 401)\n(1343, 400)\n(1343,)\n(1343, 401)\n(2635, 400)\n(2635,)\n(2635, 401)\n"
    }
   ],
   "source": [
    "for p in DATA_PATH:\n",
    "    with open(\"CCBRPDN_Dict_\"+p+\".obj\", 'rb') as f:\n",
    "        D = pickle.load(f)\n",
    "    train_sp = wrapper(TRAIN_DIR_PREFIX+p+\".csv\", D)\n",
    "    np.savetxt(\"train_data_\"+p+\"_sparse.csv\", train_sp, delimiter=\",\")\n",
    "\n",
    "for p in DATA_PATH:\n",
    "    with open(\"CCBRPDN_Dict_\"+p+\".obj\", 'rb') as f:\n",
    "        D = pickle.load(f)\n",
    "    train_sp = wrapper(TEST_DIR_PREFIX+p+\".csv\", D)\n",
    "    np.savetxt(\"test_data_\"+p+\"_sparse.csv\", train_sp, delimiter=\",\")"
   ]
  },
  {
   "cell_type": "code",
   "execution_count": null,
   "metadata": {},
   "outputs": [],
   "source": []
  }
 ]
}