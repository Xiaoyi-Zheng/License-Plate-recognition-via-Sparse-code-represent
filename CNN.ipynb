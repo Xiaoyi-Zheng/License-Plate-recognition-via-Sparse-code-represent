{
  "nbformat": 4,
  "nbformat_minor": 0,
  "metadata": {
    "colab": {
      "name": "657 project.ipynb",
      "provenance": []
    },
    "kernelspec": {
      "name": "python37664bitbaseconda85dc243cb34a406485e071b767da1e8b",
      "display_name": "Python 3.7.6 64-bit ('base': conda)"
    },
    "accelerator": "GPU"
  },
  "cells": [
    {
      "cell_type": "markdown",
      "metadata": {
        "id": "FLBl7ikxKfb4",
        "colab_type": "text"
      },
      "source": [
        "Letter 和 area 的网络架构差不多一样，但是province的模型就要复杂一点，因为文字可能更加难以识别相对于字幕和数字来说"
      ]
    },
    {
      "cell_type": "code",
      "metadata": {
        "id": "-FNDAStrKeBj",
        "colab_type": "code",
        "colab": {}
      },
      "source": [
        "import tensorflow as tf\n",
        "import tensorflow.keras.layers\n",
        "import pandas as pd\n",
        "from keras.utils.np_utils import to_categorical\n",
        "import os\n",
        "import numpy as np\n",
        "import matplotlib.pyplot as plt"
      ],
      "execution_count": null,
      "outputs": []
    },
    {
      "cell_type": "code",
      "metadata": {
        "id": "MlWVhDFNsaLh",
        "colab_type": "code",
        "colab": {}
      },
      "source": [
        "data_train_set_letter=pd.read_csv('/content/drive/My Drive/Colab Notebooks/train_data_letter.csv').values\n",
        "x_letter_train=np.reshape(data_train_set_letter[:,0:-1]/255,(-1,20,20,1))\n",
        "y_letter_train=to_categorical(data_train_set_letter[:,-1].astype(\"int64\"),34)\n",
        "\n",
        "\n"
      ],
      "execution_count": null,
      "outputs": []
    },
    {
      "cell_type": "code",
      "metadata": {
        "id": "4WKa1THx4dEV",
        "colab_type": "code",
        "colab": {
          "base_uri": "https://localhost:8080/",
          "height": 34
        },
        "outputId": "20f8398d-ca8f-4d39-cd1f-d59123ceed57"
      },
      "source": [
        "x_letter_train.shape"
      ],
      "execution_count": null,
      "outputs": [
        {
          "output_type": "execute_result",
          "data": {
            "text/plain": [
              "(10540, 20, 20, 1)"
            ]
          },
          "metadata": {
            "tags": []
          },
          "execution_count": 5
        }
      ]
    },
    {
      "cell_type": "code",
      "metadata": {
        "id": "9JlTwoBp5dc1",
        "colab_type": "code",
        "colab": {}
      },
      "source": [
        "def model_letter2():\n",
        "  model= tf.keras.models.Sequential()\n",
        "  model.add(tf.keras.layers.Conv2D(32, (3,3), padding='same', activation='relu'))\n",
        "  model.add(tf.keras.layers.MaxPooling2D(pool_size=(2, 2), strides=(2,2)))\n",
        "  model.add(tf.keras.layers.Conv2D(16, (3,3), padding='same', activation='relu'))\n",
        "  model.add(tf.keras.layers.MaxPooling2D(pool_size=(2, 2), strides=(2,2)))\n",
        "  model.add(tf.keras.layers.Flatten())\n",
        "  model.add(tf.keras.layers.Dense(34))\n",
        "  model.add(tf.keras.layers.Activation('softmax'))\n",
        "  return model"
      ],
      "execution_count": null,
      "outputs": []
    },
    {
      "cell_type": "code",
      "metadata": {
        "id": "7cfZncTLDCpb",
        "colab_type": "code",
        "colab": {}
      },
      "source": [
        ""
      ],
      "execution_count": null,
      "outputs": []
    },
    {
      "cell_type": "code",
      "metadata": {
        "id": "aHct_9QCt3AZ",
        "colab_type": "code",
        "colab": {
          "base_uri": "https://localhost:8080/",
          "height": 1000
        },
        "outputId": "532cdd91-494d-43df-cd04-33203e3b8166"
      },
      "source": [
        "model_letter =model_letter2()\n",
        "model_letter.compile(\n",
        "    optimizer=tf.keras.optimizers.Adam(learning_rate=1e-3),\n",
        "    loss='categorical_crossentropy',\n",
        "    metrics=['accuracy'])\n",
        "\n",
        "\n",
        "history_letter=model_letter.fit(\n",
        "  x_letter_train,y_letter_train,\n",
        "  batch_size=128,\n",
        "  epochs=50,\n",
        "  validation_split=0.2,\n",
        "  validation_freq=1,\n",
        "  \n",
        ")"
      ],
      "execution_count": null,
      "outputs": [
        {
          "output_type": "stream",
          "text": [
            "Epoch 1/50\n",
            "66/66 [==============================] - 0s 6ms/step - loss: 2.4889 - accuracy: 0.4522 - val_loss: 0.9633 - val_accuracy: 0.7837\n",
            "Epoch 2/50\n",
            "66/66 [==============================] - 0s 3ms/step - loss: 0.3534 - accuracy: 0.9134 - val_loss: 0.1771 - val_accuracy: 0.9668\n",
            "Epoch 3/50\n",
            "66/66 [==============================] - 0s 3ms/step - loss: 0.1148 - accuracy: 0.9717 - val_loss: 0.1121 - val_accuracy: 0.9744\n",
            "Epoch 4/50\n",
            "66/66 [==============================] - 0s 4ms/step - loss: 0.0735 - accuracy: 0.9827 - val_loss: 0.0862 - val_accuracy: 0.9787\n",
            "Epoch 5/50\n",
            "66/66 [==============================] - 0s 3ms/step - loss: 0.0542 - accuracy: 0.9885 - val_loss: 0.0815 - val_accuracy: 0.9843\n",
            "Epoch 6/50\n",
            "66/66 [==============================] - 0s 4ms/step - loss: 0.0451 - accuracy: 0.9902 - val_loss: 0.0702 - val_accuracy: 0.9843\n",
            "Epoch 7/50\n",
            "66/66 [==============================] - 0s 3ms/step - loss: 0.0362 - accuracy: 0.9936 - val_loss: 0.0751 - val_accuracy: 0.9848\n",
            "Epoch 8/50\n",
            "66/66 [==============================] - 0s 4ms/step - loss: 0.0325 - accuracy: 0.9931 - val_loss: 0.0672 - val_accuracy: 0.9853\n",
            "Epoch 9/50\n",
            "66/66 [==============================] - 0s 3ms/step - loss: 0.0268 - accuracy: 0.9950 - val_loss: 0.0692 - val_accuracy: 0.9862\n",
            "Epoch 10/50\n",
            "66/66 [==============================] - 0s 3ms/step - loss: 0.0252 - accuracy: 0.9950 - val_loss: 0.0647 - val_accuracy: 0.9862\n",
            "Epoch 11/50\n",
            "66/66 [==============================] - 0s 3ms/step - loss: 0.0237 - accuracy: 0.9951 - val_loss: 0.0629 - val_accuracy: 0.9858\n",
            "Epoch 12/50\n",
            "66/66 [==============================] - 0s 4ms/step - loss: 0.0192 - accuracy: 0.9961 - val_loss: 0.0589 - val_accuracy: 0.9900\n",
            "Epoch 13/50\n",
            "66/66 [==============================] - 0s 4ms/step - loss: 0.0181 - accuracy: 0.9961 - val_loss: 0.0626 - val_accuracy: 0.9886\n",
            "Epoch 14/50\n",
            "66/66 [==============================] - 0s 4ms/step - loss: 0.0173 - accuracy: 0.9960 - val_loss: 0.0625 - val_accuracy: 0.9872\n",
            "Epoch 15/50\n",
            "66/66 [==============================] - 0s 3ms/step - loss: 0.0167 - accuracy: 0.9967 - val_loss: 0.0534 - val_accuracy: 0.9900\n",
            "Epoch 16/50\n",
            "66/66 [==============================] - 0s 4ms/step - loss: 0.0134 - accuracy: 0.9968 - val_loss: 0.0633 - val_accuracy: 0.9881\n",
            "Epoch 17/50\n",
            "66/66 [==============================] - 0s 3ms/step - loss: 0.0140 - accuracy: 0.9970 - val_loss: 0.0550 - val_accuracy: 0.9900\n",
            "Epoch 18/50\n",
            "66/66 [==============================] - 0s 3ms/step - loss: 0.0102 - accuracy: 0.9981 - val_loss: 0.0599 - val_accuracy: 0.9886\n",
            "Epoch 19/50\n",
            "66/66 [==============================] - 0s 4ms/step - loss: 0.0120 - accuracy: 0.9979 - val_loss: 0.0529 - val_accuracy: 0.9896\n",
            "Epoch 20/50\n",
            "66/66 [==============================] - 0s 4ms/step - loss: 0.0103 - accuracy: 0.9976 - val_loss: 0.0520 - val_accuracy: 0.9900\n",
            "Epoch 21/50\n",
            "66/66 [==============================] - 0s 4ms/step - loss: 0.0098 - accuracy: 0.9980 - val_loss: 0.0518 - val_accuracy: 0.9896\n",
            "Epoch 22/50\n",
            "66/66 [==============================] - 0s 3ms/step - loss: 0.0087 - accuracy: 0.9985 - val_loss: 0.0615 - val_accuracy: 0.9891\n",
            "Epoch 23/50\n",
            "66/66 [==============================] - 0s 4ms/step - loss: 0.0105 - accuracy: 0.9983 - val_loss: 0.0525 - val_accuracy: 0.9881\n",
            "Epoch 24/50\n",
            "66/66 [==============================] - 0s 4ms/step - loss: 0.0067 - accuracy: 0.9985 - val_loss: 0.0658 - val_accuracy: 0.9848\n",
            "Epoch 25/50\n",
            "66/66 [==============================] - 0s 4ms/step - loss: 0.0071 - accuracy: 0.9989 - val_loss: 0.0560 - val_accuracy: 0.9881\n",
            "Epoch 26/50\n",
            "66/66 [==============================] - 0s 4ms/step - loss: 0.0069 - accuracy: 0.9988 - val_loss: 0.0543 - val_accuracy: 0.9910\n",
            "Epoch 27/50\n",
            "66/66 [==============================] - 0s 4ms/step - loss: 0.0073 - accuracy: 0.9981 - val_loss: 0.0533 - val_accuracy: 0.9900\n",
            "Epoch 28/50\n",
            "66/66 [==============================] - 0s 4ms/step - loss: 0.0086 - accuracy: 0.9982 - val_loss: 0.0607 - val_accuracy: 0.9858\n",
            "Epoch 29/50\n",
            "66/66 [==============================] - 0s 4ms/step - loss: 0.0068 - accuracy: 0.9987 - val_loss: 0.0569 - val_accuracy: 0.9896\n",
            "Epoch 30/50\n",
            "66/66 [==============================] - 0s 4ms/step - loss: 0.0073 - accuracy: 0.9980 - val_loss: 0.0558 - val_accuracy: 0.9896\n",
            "Epoch 31/50\n",
            "66/66 [==============================] - 0s 3ms/step - loss: 0.0084 - accuracy: 0.9981 - val_loss: 0.0620 - val_accuracy: 0.9900\n",
            "Epoch 32/50\n",
            "66/66 [==============================] - 0s 4ms/step - loss: 0.0067 - accuracy: 0.9985 - val_loss: 0.0580 - val_accuracy: 0.9905\n",
            "Epoch 33/50\n",
            "66/66 [==============================] - 0s 4ms/step - loss: 0.0094 - accuracy: 0.9976 - val_loss: 0.0573 - val_accuracy: 0.9896\n",
            "Epoch 34/50\n",
            "66/66 [==============================] - 0s 4ms/step - loss: 0.0077 - accuracy: 0.9986 - val_loss: 0.0571 - val_accuracy: 0.9886\n",
            "Epoch 35/50\n",
            "66/66 [==============================] - 0s 4ms/step - loss: 0.0072 - accuracy: 0.9987 - val_loss: 0.0572 - val_accuracy: 0.9896\n",
            "Epoch 36/50\n",
            "66/66 [==============================] - 0s 4ms/step - loss: 0.0064 - accuracy: 0.9987 - val_loss: 0.0561 - val_accuracy: 0.9881\n",
            "Epoch 37/50\n",
            "66/66 [==============================] - 0s 4ms/step - loss: 0.0066 - accuracy: 0.9985 - val_loss: 0.0603 - val_accuracy: 0.9891\n",
            "Epoch 38/50\n",
            "66/66 [==============================] - 0s 3ms/step - loss: 0.0072 - accuracy: 0.9980 - val_loss: 0.0617 - val_accuracy: 0.9910\n",
            "Epoch 39/50\n",
            "66/66 [==============================] - 0s 4ms/step - loss: 0.0054 - accuracy: 0.9989 - val_loss: 0.0631 - val_accuracy: 0.9900\n",
            "Epoch 40/50\n",
            "66/66 [==============================] - 0s 4ms/step - loss: 0.0049 - accuracy: 0.9993 - val_loss: 0.0599 - val_accuracy: 0.9896\n",
            "Epoch 41/50\n",
            "66/66 [==============================] - 0s 4ms/step - loss: 0.0055 - accuracy: 0.9988 - val_loss: 0.0588 - val_accuracy: 0.9896\n",
            "Epoch 42/50\n",
            "66/66 [==============================] - 0s 4ms/step - loss: 0.0036 - accuracy: 0.9991 - val_loss: 0.0631 - val_accuracy: 0.9886\n",
            "Epoch 43/50\n",
            "66/66 [==============================] - 0s 4ms/step - loss: 0.0051 - accuracy: 0.9988 - val_loss: 0.0584 - val_accuracy: 0.9886\n",
            "Epoch 44/50\n",
            "66/66 [==============================] - 0s 3ms/step - loss: 0.0039 - accuracy: 0.9989 - val_loss: 0.0598 - val_accuracy: 0.9910\n",
            "Epoch 45/50\n",
            "66/66 [==============================] - 0s 4ms/step - loss: 0.0036 - accuracy: 0.9994 - val_loss: 0.0610 - val_accuracy: 0.9896\n",
            "Epoch 46/50\n",
            "66/66 [==============================] - 0s 3ms/step - loss: 0.0039 - accuracy: 0.9989 - val_loss: 0.0594 - val_accuracy: 0.9905\n",
            "Epoch 47/50\n",
            "66/66 [==============================] - 0s 4ms/step - loss: 0.0045 - accuracy: 0.9993 - val_loss: 0.0595 - val_accuracy: 0.9905\n",
            "Epoch 48/50\n",
            "66/66 [==============================] - 0s 3ms/step - loss: 0.0026 - accuracy: 0.9995 - val_loss: 0.0642 - val_accuracy: 0.9905\n",
            "Epoch 49/50\n",
            "66/66 [==============================] - 0s 4ms/step - loss: 0.0030 - accuracy: 0.9992 - val_loss: 0.0657 - val_accuracy: 0.9896\n",
            "Epoch 50/50\n",
            "66/66 [==============================] - 0s 4ms/step - loss: 0.0022 - accuracy: 0.9998 - val_loss: 0.0661 - val_accuracy: 0.9900\n"
          ],
          "name": "stdout"
        }
      ]
    },
    {
      "cell_type": "code",
      "metadata": {
        "id": "SqHn2_klkJK7",
        "colab_type": "code",
        "colab": {}
      },
      "source": [
        "data_test_set_letter=pd.read_csv('/content/drive/My Drive/Colab Notebooks/test_data_letter.csv').values\n",
        "x_letter_test=np.reshape(data_test_set_letter[:,0:-1]/255,(-1,20,20,1))\n",
        "y_letter_test=to_categorical(data_test_set_letter[:,-1].astype(\"int64\"))"
      ],
      "execution_count": null,
      "outputs": []
    },
    {
      "cell_type": "code",
      "metadata": {
        "id": "680EH-2SkKY0",
        "colab_type": "code",
        "colab": {
          "base_uri": "https://localhost:8080/",
          "height": 51
        },
        "outputId": "b01ff1f9-d3ba-471c-9c31-039b8e89dc69"
      },
      "source": [
        "model_letter.evaluate(x_letter_test,y_letter_test)"
      ],
      "execution_count": null,
      "outputs": [
        {
          "output_type": "stream",
          "text": [
            "83/83 [==============================] - 0s 2ms/step - loss: 0.0622 - accuracy: 0.9909\n"
          ],
          "name": "stdout"
        },
        {
          "output_type": "execute_result",
          "data": {
            "text/plain": [
              "[0.06221923232078552, 0.9908918142318726]"
            ]
          },
          "metadata": {
            "tags": []
          },
          "execution_count": 58
        }
      ]
    },
    {
      "cell_type": "code",
      "metadata": {
        "id": "qQe_lz0gDE4z",
        "colab_type": "code",
        "colab": {
          "base_uri": "https://localhost:8080/",
          "height": 391
        },
        "outputId": "0d464754-8298-4053-a159-e8dd1b1a001c"
      },
      "source": [
        "model_letter.summary()"
      ],
      "execution_count": null,
      "outputs": [
        {
          "output_type": "stream",
          "text": [
            "Model: \"sequential_16\"\n",
            "_________________________________________________________________\n",
            "Layer (type)                 Output Shape              Param #   \n",
            "=================================================================\n",
            "conv2d_26 (Conv2D)           (None, 20, 20, 32)        320       \n",
            "_________________________________________________________________\n",
            "max_pooling2d_26 (MaxPooling (None, 10, 10, 32)        0         \n",
            "_________________________________________________________________\n",
            "conv2d_27 (Conv2D)           (None, 10, 10, 16)        4624      \n",
            "_________________________________________________________________\n",
            "max_pooling2d_27 (MaxPooling (None, 5, 5, 16)          0         \n",
            "_________________________________________________________________\n",
            "flatten_16 (Flatten)         (None, 400)               0         \n",
            "_________________________________________________________________\n",
            "dense_16 (Dense)             (None, 34)                13634     \n",
            "_________________________________________________________________\n",
            "activation_16 (Activation)   (None, 34)                0         \n",
            "=================================================================\n",
            "Total params: 18,578\n",
            "Trainable params: 18,578\n",
            "Non-trainable params: 0\n",
            "_________________________________________________________________\n"
          ],
          "name": "stdout"
        }
      ]
    },
    {
      "cell_type": "code",
      "metadata": {
        "id": "RY2Yblf1CNPO",
        "colab_type": "code",
        "colab": {
          "base_uri": "https://localhost:8080/",
          "height": 312
        },
        "outputId": "fb63ce29-4026-4421-b9b7-4187b7e09214"
      },
      "source": [
        "plt.plot(history_letter.history['accuracy'],label=\"train set\")\n",
        "plt.plot(history_letter.history['val_accuracy'],label=\"val set\")\n",
        "plt.legend()\n",
        "plt.xlabel(\"epoch\")\n",
        "plt.ylabel(\"accuracy\")\n",
        "plt.title(\"CNN model of Letter\")"
      ],
      "execution_count": null,
      "outputs": [
        {
          "output_type": "execute_result",
          "data": {
            "text/plain": [
              "Text(0.5, 1.0, 'CNN modle of Letter')"
            ]
          },
          "metadata": {
            "tags": []
          },
          "execution_count": 30
        },
        {
          "output_type": "display_data",
          "data": {
            "image/png": "[encoded data removed]",
            "text/plain": [
              "<Figure size 432x288 with 1 Axes>"
            ]
          },
          "metadata": {
            "tags": [],
            "needs_background": "light"
          }
        }
      ]
    },
    {
      "cell_type": "code",
      "metadata": {
        "id": "mQB5RA-TC6ud",
        "colab_type": "code",
        "colab": {
          "base_uri": "https://localhost:8080/",
          "height": 312
        },
        "outputId": "95159823-8278-4832-8c24-858644508edc"
      },
      "source": [
        "plt.plot(history_letter.history['loss'],label=\"train set\")\n",
        "plt.plot(history_letter.history['val_loss'],label=\"val set\")\n",
        "plt.legend()\n",
        "plt.xlabel(\"epoch\")\n",
        "plt.ylabel(\"loss\")\n",
        "plt.title(\"CNN model of Letter\")"
      ],
      "execution_count": null,
      "outputs": [
        {
          "output_type": "execute_result",
          "data": {
            "text/plain": [
              "Text(0.5, 1.0, 'CNN modle of Letter')"
            ]
          },
          "metadata": {
            "tags": []
          },
          "execution_count": 31
        },
        {
          "output_type": "display_data",
          "data": {
            "image/png": "[encoded data removed]",
            "text/plain": [
              "<Figure size 432x288 with 1 Axes>"
            ]
          },
          "metadata": {
            "tags": [],
            "needs_background": "light"
          }
        }
      ]
    },
    {
      "cell_type": "markdown",
      "metadata": {
        "id": "OwphB9hHqwWH",
        "colab_type": "text"
      },
      "source": [
        "Area\n"
      ]
    },
    {
      "cell_type": "code",
      "metadata": {
        "id": "8FDyeqkYtIfc",
        "colab_type": "code",
        "colab": {}
      },
      "source": [
        "data_train_set_area=pd.read_csv('/content/drive/My Drive/Colab Notebooks/train_data_area.csv').values\n",
        "x_area_train=np.reshape(data_train_set_area[:,0:-1]/255,(-1,20,20,1))\n",
        "y_area_train=to_categorical(data_train_set_area[:,-1])"
      ],
      "execution_count": null,
      "outputs": []
    },
    {
      "cell_type": "code",
      "metadata": {
        "id": "wZpOTDQRrj4O",
        "colab_type": "code",
        "colab": {}
      },
      "source": [
        "def model_area_model():\n",
        "  model= tf.keras.models.Sequential()\n",
        "  model.add(tf.keras.layers.Conv2D(32, (3,3), padding='same', activation='relu'))\n",
        "  # model.add(tf.keras.layers.Conv2D(64, (3,3), padding='same', activation='relu'))\n",
        "  model.add(tf.keras.layers.MaxPooling2D(pool_size=(2, 2), strides=(2,2)))\n",
        "  model.add(tf.keras.layers.Conv2D(16, (3,3), padding='same', activation='relu'))\n",
        "  model.add(tf.keras.layers.MaxPooling2D(pool_size=(2, 2), strides=(2,2)))\n",
        "  model.add(tf.keras.layers.Flatten())\n",
        "  # model.add(tf.keras.layers.Dense(512))\n",
        "  # model.add(tf.keras.layers.Activation('relu'))\n",
        "  model.add(tf.keras.layers.Dense(26))\n",
        "  model.add(tf.keras.layers.Activation('softmax'))\n",
        "  return model"
      ],
      "execution_count": null,
      "outputs": []
    },
    {
      "cell_type": "code",
      "metadata": {
        "id": "BbPgnMimqj04",
        "colab_type": "code",
        "colab": {
          "base_uri": "https://localhost:8080/",
          "height": 1000
        },
        "outputId": "fbaf059b-12a6-4388-cf16-baab41e458a2"
      },
      "source": [
        "model_area =model_area_model()\n",
        "model_area.compile(\n",
        "    optimizer=tf.keras.optimizers.Adam(learning_rate=1e-3),\n",
        "    loss='categorical_crossentropy',\n",
        "    metrics=['accuracy'])\n",
        "\n",
        "\n",
        "history_area=model_area.fit(\n",
        "  x_area_train,y_area_train,\n",
        "  batch_size=32,\n",
        "  epochs=50,\n",
        "  validation_split=0.2,\n",
        "  validation_freq=1,\n",
        "  \n",
        ")"
      ],
      "execution_count": null,
      "outputs": [
        {
          "output_type": "stream",
          "text": [
            "Epoch 1/50\n",
            "135/135 [==============================] - 1s 4ms/step - loss: 1.5807 - accuracy: 0.5705 - val_loss: 0.2848 - val_accuracy: 0.9143\n",
            "Epoch 2/50\n",
            "135/135 [==============================] - 0s 3ms/step - loss: 0.1411 - accuracy: 0.9655 - val_loss: 0.0949 - val_accuracy: 0.9832\n",
            "Epoch 3/50\n",
            "135/135 [==============================] - 0s 3ms/step - loss: 0.0770 - accuracy: 0.9809 - val_loss: 0.0657 - val_accuracy: 0.9804\n",
            "Epoch 4/50\n",
            "135/135 [==============================] - 0s 3ms/step - loss: 0.0511 - accuracy: 0.9853 - val_loss: 0.0705 - val_accuracy: 0.9804\n",
            "Epoch 5/50\n",
            "135/135 [==============================] - 0s 3ms/step - loss: 0.0371 - accuracy: 0.9900 - val_loss: 0.0442 - val_accuracy: 0.9907\n",
            "Epoch 6/50\n",
            "135/135 [==============================] - 0s 3ms/step - loss: 0.0249 - accuracy: 0.9944 - val_loss: 0.0552 - val_accuracy: 0.9842\n",
            "Epoch 7/50\n",
            "135/135 [==============================] - 0s 3ms/step - loss: 0.0236 - accuracy: 0.9923 - val_loss: 0.0709 - val_accuracy: 0.9860\n",
            "Epoch 8/50\n",
            "135/135 [==============================] - 0s 3ms/step - loss: 0.0174 - accuracy: 0.9958 - val_loss: 0.0593 - val_accuracy: 0.9860\n",
            "Epoch 9/50\n",
            "135/135 [==============================] - 0s 3ms/step - loss: 0.0126 - accuracy: 0.9967 - val_loss: 0.0498 - val_accuracy: 0.9898\n",
            "Epoch 10/50\n",
            "135/135 [==============================] - 0s 3ms/step - loss: 0.0136 - accuracy: 0.9981 - val_loss: 0.0497 - val_accuracy: 0.9879\n",
            "Epoch 11/50\n",
            "135/135 [==============================] - 0s 3ms/step - loss: 0.0098 - accuracy: 0.9972 - val_loss: 0.0506 - val_accuracy: 0.9888\n",
            "Epoch 12/50\n",
            "135/135 [==============================] - 0s 3ms/step - loss: 0.0110 - accuracy: 0.9970 - val_loss: 0.0483 - val_accuracy: 0.9888\n",
            "Epoch 13/50\n",
            "135/135 [==============================] - 0s 3ms/step - loss: 0.0120 - accuracy: 0.9965 - val_loss: 0.0692 - val_accuracy: 0.9851\n",
            "Epoch 14/50\n",
            "135/135 [==============================] - 0s 3ms/step - loss: 0.0082 - accuracy: 0.9979 - val_loss: 0.0530 - val_accuracy: 0.9860\n",
            "Epoch 15/50\n",
            "135/135 [==============================] - 0s 3ms/step - loss: 0.0058 - accuracy: 0.9986 - val_loss: 0.0502 - val_accuracy: 0.9898\n",
            "Epoch 16/50\n",
            "135/135 [==============================] - 0s 3ms/step - loss: 0.0052 - accuracy: 0.9988 - val_loss: 0.0509 - val_accuracy: 0.9898\n",
            "Epoch 17/50\n",
            "135/135 [==============================] - 0s 3ms/step - loss: 0.0039 - accuracy: 0.9993 - val_loss: 0.0489 - val_accuracy: 0.9907\n",
            "Epoch 18/50\n",
            "135/135 [==============================] - 0s 3ms/step - loss: 0.0083 - accuracy: 0.9984 - val_loss: 0.0610 - val_accuracy: 0.9879\n",
            "Epoch 19/50\n",
            "135/135 [==============================] - 0s 3ms/step - loss: 0.0045 - accuracy: 0.9984 - val_loss: 0.0541 - val_accuracy: 0.9879\n",
            "Epoch 20/50\n",
            "135/135 [==============================] - 0s 3ms/step - loss: 0.0081 - accuracy: 0.9967 - val_loss: 0.0577 - val_accuracy: 0.9870\n",
            "Epoch 21/50\n",
            "135/135 [==============================] - 0s 3ms/step - loss: 0.0040 - accuracy: 0.9991 - val_loss: 0.0568 - val_accuracy: 0.9888\n",
            "Epoch 22/50\n",
            "135/135 [==============================] - 0s 3ms/step - loss: 0.0029 - accuracy: 0.9993 - val_loss: 0.0591 - val_accuracy: 0.9879\n",
            "Epoch 23/50\n",
            "135/135 [==============================] - 0s 3ms/step - loss: 0.0059 - accuracy: 0.9988 - val_loss: 0.0488 - val_accuracy: 0.9916\n",
            "Epoch 24/50\n",
            "135/135 [==============================] - 0s 3ms/step - loss: 0.0035 - accuracy: 0.9991 - val_loss: 0.0530 - val_accuracy: 0.9888\n",
            "Epoch 25/50\n",
            "135/135 [==============================] - 0s 3ms/step - loss: 0.0076 - accuracy: 0.9972 - val_loss: 0.0505 - val_accuracy: 0.9907\n",
            "Epoch 26/50\n",
            "135/135 [==============================] - 0s 3ms/step - loss: 0.0034 - accuracy: 0.9986 - val_loss: 0.0514 - val_accuracy: 0.9898\n",
            "Epoch 27/50\n",
            "135/135 [==============================] - 0s 3ms/step - loss: 0.0052 - accuracy: 0.9984 - val_loss: 0.0473 - val_accuracy: 0.9907\n",
            "Epoch 28/50\n",
            "135/135 [==============================] - 0s 3ms/step - loss: 0.0016 - accuracy: 0.9995 - val_loss: 0.0514 - val_accuracy: 0.9907\n",
            "Epoch 29/50\n",
            "135/135 [==============================] - 0s 3ms/step - loss: 0.0021 - accuracy: 0.9991 - val_loss: 0.0499 - val_accuracy: 0.9916\n",
            "Epoch 30/50\n",
            "135/135 [==============================] - 0s 3ms/step - loss: 0.0030 - accuracy: 0.9993 - val_loss: 0.0584 - val_accuracy: 0.9888\n",
            "Epoch 31/50\n",
            "135/135 [==============================] - 0s 3ms/step - loss: 8.8169e-04 - accuracy: 1.0000 - val_loss: 0.0566 - val_accuracy: 0.9907\n",
            "Epoch 32/50\n",
            "135/135 [==============================] - 0s 3ms/step - loss: 4.2872e-04 - accuracy: 1.0000 - val_loss: 0.0548 - val_accuracy: 0.9907\n",
            "Epoch 33/50\n",
            "135/135 [==============================] - 0s 3ms/step - loss: 4.6299e-04 - accuracy: 1.0000 - val_loss: 0.0578 - val_accuracy: 0.9907\n",
            "Epoch 34/50\n",
            "135/135 [==============================] - 0s 3ms/step - loss: 5.4028e-04 - accuracy: 1.0000 - val_loss: 0.0676 - val_accuracy: 0.9870\n",
            "Epoch 35/50\n",
            "135/135 [==============================] - 0s 3ms/step - loss: 0.0065 - accuracy: 0.9979 - val_loss: 0.0609 - val_accuracy: 0.9879\n",
            "Epoch 36/50\n",
            "135/135 [==============================] - 0s 3ms/step - loss: 0.0022 - accuracy: 0.9993 - val_loss: 0.0513 - val_accuracy: 0.9898\n",
            "Epoch 37/50\n",
            "135/135 [==============================] - 0s 3ms/step - loss: 7.8430e-04 - accuracy: 0.9995 - val_loss: 0.0559 - val_accuracy: 0.9907\n",
            "Epoch 38/50\n",
            "135/135 [==============================] - 0s 3ms/step - loss: 3.5681e-04 - accuracy: 1.0000 - val_loss: 0.0545 - val_accuracy: 0.9907\n",
            "Epoch 39/50\n",
            "135/135 [==============================] - 0s 3ms/step - loss: 2.5553e-04 - accuracy: 1.0000 - val_loss: 0.0547 - val_accuracy: 0.9907\n",
            "Epoch 40/50\n",
            "135/135 [==============================] - 0s 3ms/step - loss: 1.7581e-04 - accuracy: 1.0000 - val_loss: 0.0559 - val_accuracy: 0.9907\n",
            "Epoch 41/50\n",
            "135/135 [==============================] - 0s 3ms/step - loss: 1.8102e-04 - accuracy: 1.0000 - val_loss: 0.0564 - val_accuracy: 0.9898\n",
            "Epoch 42/50\n",
            "135/135 [==============================] - 0s 3ms/step - loss: 1.8616e-04 - accuracy: 1.0000 - val_loss: 0.0573 - val_accuracy: 0.9907\n",
            "Epoch 43/50\n",
            "135/135 [==============================] - 0s 3ms/step - loss: 2.1620e-04 - accuracy: 1.0000 - val_loss: 0.0575 - val_accuracy: 0.9907\n",
            "Epoch 44/50\n",
            "135/135 [==============================] - 0s 3ms/step - loss: 1.3750e-04 - accuracy: 1.0000 - val_loss: 0.0573 - val_accuracy: 0.9907\n",
            "Epoch 45/50\n",
            "135/135 [==============================] - 0s 3ms/step - loss: 2.0270e-04 - accuracy: 1.0000 - val_loss: 0.0585 - val_accuracy: 0.9898\n",
            "Epoch 46/50\n",
            "135/135 [==============================] - 0s 3ms/step - loss: 1.6902e-04 - accuracy: 1.0000 - val_loss: 0.0615 - val_accuracy: 0.9907\n",
            "Epoch 47/50\n",
            "135/135 [==============================] - 0s 3ms/step - loss: 9.8473e-05 - accuracy: 1.0000 - val_loss: 0.0603 - val_accuracy: 0.9907\n",
            "Epoch 48/50\n",
            "135/135 [==============================] - 0s 3ms/step - loss: 1.4560e-04 - accuracy: 1.0000 - val_loss: 0.0616 - val_accuracy: 0.9907\n",
            "Epoch 49/50\n",
            "135/135 [==============================] - 0s 3ms/step - loss: 1.6301e-04 - accuracy: 1.0000 - val_loss: 0.0600 - val_accuracy: 0.9907\n",
            "Epoch 50/50\n",
            "135/135 [==============================] - 0s 3ms/step - loss: 8.3845e-05 - accuracy: 1.0000 - val_loss: 0.0609 - val_accuracy: 0.9907\n"
          ],
          "name": "stdout"
        }
      ]
    },
    {
      "cell_type": "code",
      "metadata": {
        "id": "R2qu8pjfqlqU",
        "colab_type": "code",
        "colab": {}
      },
      "source": [
        "data_test_set_area=pd.read_csv('/content/drive/My Drive/Colab Notebooks/test_data_area.csv').values\n",
        "x_area_test=np.reshape(data_test_set_area[:,0:-1]/255,(-1,20,20,1))\n",
        "y_area_test=to_categorical(data_test_set_area[:,-1].astype(\"int64\"))"
      ],
      "execution_count": null,
      "outputs": []
    },
    {
      "cell_type": "code",
      "metadata": {
        "id": "HBuSheFYr6u4",
        "colab_type": "code",
        "colab": {
          "base_uri": "https://localhost:8080/",
          "height": 51
        },
        "outputId": "594b99b1-8dcb-4f3f-b0b1-c6c0c5ee23e8"
      },
      "source": [
        "model_area.evaluate(x_area_test,y_area_test)"
      ],
      "execution_count": null,
      "outputs": [
        {
          "output_type": "stream",
          "text": [
            "42/42 [==============================] - 0s 2ms/step - loss: 0.0384 - accuracy: 0.9940\n"
          ],
          "name": "stdout"
        },
        {
          "output_type": "execute_result",
          "data": {
            "text/plain": [
              "[0.038372702896595, 0.9940431714057922]"
            ]
          },
          "metadata": {
            "tags": []
          },
          "execution_count": 51
        }
      ]
    },
    {
      "cell_type": "code",
      "metadata": {
        "id": "GPVXtAHEDivo",
        "colab_type": "code",
        "colab": {
          "base_uri": "https://localhost:8080/",
          "height": 391
        },
        "outputId": "ce4aa7d5-0bbc-4ae7-d4d8-b29d0122f630"
      },
      "source": [
        "model_area.summary()"
      ],
      "execution_count": null,
      "outputs": [
        {
          "output_type": "stream",
          "text": [
            "Model: \"sequential_14\"\n",
            "_________________________________________________________________\n",
            "Layer (type)                 Output Shape              Param #   \n",
            "=================================================================\n",
            "conv2d_22 (Conv2D)           (None, 20, 20, 32)        320       \n",
            "_________________________________________________________________\n",
            "max_pooling2d_22 (MaxPooling (None, 10, 10, 32)        0         \n",
            "_________________________________________________________________\n",
            "conv2d_23 (Conv2D)           (None, 10, 10, 16)        4624      \n",
            "_________________________________________________________________\n",
            "max_pooling2d_23 (MaxPooling (None, 5, 5, 16)          0         \n",
            "_________________________________________________________________\n",
            "flatten_14 (Flatten)         (None, 400)               0         \n",
            "_________________________________________________________________\n",
            "dense_14 (Dense)             (None, 26)                10426     \n",
            "_________________________________________________________________\n",
            "activation_14 (Activation)   (None, 26)                0         \n",
            "=================================================================\n",
            "Total params: 15,370\n",
            "Trainable params: 15,370\n",
            "Non-trainable params: 0\n",
            "_________________________________________________________________\n"
          ],
          "name": "stdout"
        }
      ]
    },
    {
      "cell_type": "code",
      "metadata": {
        "id": "4RvHjIs5JBDj",
        "colab_type": "code",
        "colab": {
          "base_uri": "https://localhost:8080/",
          "height": 312
        },
        "outputId": "dc8bbaee-f6e7-4960-e961-437b285420a1"
      },
      "source": [
        "plt.plot(history_area.history['accuracy'],label=\"train set\")\n",
        "plt.plot(history_area.history['val_accuracy'],label=\"val set\")\n",
        "plt.legend()\n",
        "plt.xlabel(\"epoch\")\n",
        "plt.ylabel(\"accuracy\")\n",
        "plt.title(\"CNN model of Area\")"
      ],
      "execution_count": null,
      "outputs": [
        {
          "output_type": "execute_result",
          "data": {
            "text/plain": [
              "Text(0.5, 1.0, 'CNN modle of Area')"
            ]
          },
          "metadata": {
            "tags": []
          },
          "execution_count": 106
        },
        {
          "output_type": "display_data",
          "data": {
            "image/png": "[encoded data removed]",
            "text/plain": [
              "<Figure size 432x288 with 1 Axes>"
            ]
          },
          "metadata": {
            "tags": [],
            "needs_background": "light"
          }
        }
      ]
    },
    {
      "cell_type": "code",
      "metadata": {
        "id": "dBl-ylhCJHPw",
        "colab_type": "code",
        "colab": {
          "base_uri": "https://localhost:8080/",
          "height": 312
        },
        "outputId": "895b0fa4-31ba-4845-c06e-1bdf713aa898"
      },
      "source": [
        "plt.plot(history_area.history['loss'],label=\"train set\")\n",
        "plt.plot(history_area.history['val_loss'],label=\"val set\")\n",
        "plt.legend()\n",
        "plt.xlabel(\"epoch\")\n",
        "plt.ylabel(\"loss\")\n",
        "plt.title(\"CNN model of Area\")"
      ],
      "execution_count": null,
      "outputs": [
        {
          "output_type": "execute_result",
          "data": {
            "text/plain": [
              "Text(0.5, 1.0, 'CNN modle of Area')"
            ]
          },
          "metadata": {
            "tags": []
          },
          "execution_count": 107
        },
        {
          "output_type": "display_data",
          "data": {
            "image/png": "[encoded data removed]",
            "text/plain": [
              "<Figure size 432x288 with 1 Axes>"
            ]
          },
          "metadata": {
            "tags": [],
            "needs_background": "light"
          }
        }
      ]
    },
    {
      "cell_type": "markdown",
      "metadata": {
        "id": "O-BYxFsIsVML",
        "colab_type": "text"
      },
      "source": [
        "Province"
      ]
    },
    {
      "cell_type": "code",
      "metadata": {
        "id": "BoKFcaCKsMGd",
        "colab_type": "code",
        "colab": {}
      },
      "source": [
        "data_train_set_province=pd.read_csv('/content/drive/My Drive/Colab Notebooks/train_data_province.csv').values\n",
        "x_province_train=np.reshape(data_train_set_province[:,0:-1]/255,(-1,20,20,1))\n",
        "y_province_train=to_categorical(data_train_set_province[:,-1])"
      ],
      "execution_count": null,
      "outputs": []
    },
    {
      "cell_type": "code",
      "metadata": {
        "id": "01iZQYCYseqt",
        "colab_type": "code",
        "colab": {
          "base_uri": "https://localhost:8080/",
          "height": 34
        },
        "outputId": "a93f1700-b16a-485d-80f6-47be224bf6ca"
      },
      "source": [
        "y_province_train.shape"
      ],
      "execution_count": null,
      "outputs": [
        {
          "output_type": "execute_result",
          "data": {
            "text/plain": [
              "(2223, 31)"
            ]
          },
          "metadata": {
            "tags": []
          },
          "execution_count": 61
        }
      ]
    },
    {
      "cell_type": "code",
      "metadata": {
        "id": "DMk9XXy5samQ",
        "colab_type": "code",
        "colab": {}
      },
      "source": [
        "def model_province_model():\n",
        "  model= tf.keras.models.Sequential()\n",
        "  model.add(tf.keras.layers.Conv2D(32, (3,3), padding='same', activation='relu'))\n",
        "  model.add(tf.keras.layers.Conv2D(32, (3,3), padding='same', activation='relu'))\n",
        "  model.add(tf.keras.layers.MaxPooling2D(pool_size=(2, 2), strides=(2,2)))\n",
        "  model.add(tf.keras.layers.Dropout(0.2))\n",
        "  model.add(tf.keras.layers.Conv2D(64, (3,3), padding='same', activation='relu'))\n",
        "  model.add(tf.keras.layers.Conv2D(64, (3,3), padding='same', activation='relu'))\n",
        "  model.add(tf.keras.layers.MaxPooling2D(pool_size=(2, 2), strides=(2,2)))\n",
        "  model.add(tf.keras.layers.Dropout(0.2))\n",
        "  model.add(tf.keras.layers.Conv2D(128, (3,3), padding='same', activation='relu'))\n",
        "  model.add(tf.keras.layers.Conv2D(128, (3,3), padding='same', activation='relu'))\n",
        "  model.add(tf.keras.layers.Conv2D(128, (3,3), padding='same', activation='relu'))\n",
        "  model.add(tf.keras.layers.MaxPooling2D(pool_size=(2, 2), strides=(2,2)))\n",
        "  model.add(tf.keras.layers.Dropout(0.2))\n",
        "  model.add(tf.keras.layers.Conv2D(256, (3,3), padding='same', activation='relu'))\n",
        "  model.add(tf.keras.layers.Conv2D(256, (3,3), padding='same', activation='relu'))\n",
        "  model.add(tf.keras.layers.Conv2D(256, (3,3), padding='same', activation='relu'))\n",
        "  model.add(tf.keras.layers.MaxPooling2D(pool_size=(2, 2), strides=(2,2)))\n",
        "  model.add(tf.keras.layers.Dropout(0.2))\n",
        "  model.add(tf.keras.layers.Flatten())\n",
        "  model.add(tf.keras.layers.Dense(512))\n",
        "  model.add(tf.keras.layers.Activation('relu'))\n",
        "  model.add(tf.keras.layers.Dropout(0.2))\n",
        "  model.add(tf.keras.layers.Dense(512))\n",
        "  model.add(tf.keras.layers.Activation('relu'))\n",
        "  model.add(tf.keras.layers.Dropout(0.2))\n",
        "  model.add(tf.keras.layers.Dense(512))\n",
        "  model.add(tf.keras.layers.Activation('relu'))\n",
        "  model.add(tf.keras.layers.Dense(31))\n",
        "  model.add(tf.keras.layers.Activation('softmax'))\n",
        "  return model"
      ],
      "execution_count": null,
      "outputs": []
    },
    {
      "cell_type": "code",
      "metadata": {
        "id": "lOWykji8sjCj",
        "colab_type": "code",
        "colab": {
          "base_uri": "https://localhost:8080/",
          "height": 1000
        },
        "outputId": "d4a67ef6-0341-4dea-e18b-8859e5cef3cf"
      },
      "source": [
        "model_province =model_province_model()\n",
        "model_province.compile(\n",
        "    optimizer=tf.keras.optimizers.Adam(learning_rate=1e-3),\n",
        "    loss='categorical_crossentropy',\n",
        "    metrics=['accuracy'])\n",
        "\n",
        "\n",
        "history_province=model_province.fit(\n",
        "  x_province_train,y_province_train,\n",
        "  batch_size=128,\n",
        "  epochs=200,\n",
        "  validation_split=0.2,\n",
        "  validation_freq=1,\n",
        "  \n",
        ")"
      ],
      "execution_count": null,
      "outputs": [
        {
          "output_type": "stream",
          "text": [
            "Epoch 1/200\n",
            "14/14 [==============================] - 0s 25ms/step - loss: 3.5272 - accuracy: 0.0692 - val_loss: 3.4050 - val_accuracy: 0.0876\n",
            "Epoch 2/200\n",
            "14/14 [==============================] - 0s 12ms/step - loss: 3.3729 - accuracy: 0.0782 - val_loss: 3.2818 - val_accuracy: 0.0876\n",
            "Epoch 3/200\n",
            "14/14 [==============================] - 0s 12ms/step - loss: 3.2267 - accuracy: 0.0883 - val_loss: 3.1616 - val_accuracy: 0.1034\n",
            "Epoch 4/200\n",
            "14/14 [==============================] - 0s 11ms/step - loss: 3.1812 - accuracy: 0.0962 - val_loss: 3.1487 - val_accuracy: 0.1034\n",
            "Epoch 5/200\n",
            "14/14 [==============================] - 0s 11ms/step - loss: 3.1737 - accuracy: 0.1007 - val_loss: 3.1517 - val_accuracy: 0.1034\n",
            "Epoch 6/200\n",
            "14/14 [==============================] - 0s 11ms/step - loss: 3.1762 - accuracy: 0.0962 - val_loss: 3.1518 - val_accuracy: 0.1034\n",
            "Epoch 7/200\n",
            "14/14 [==============================] - 0s 11ms/step - loss: 3.1738 - accuracy: 0.0956 - val_loss: 3.1491 - val_accuracy: 0.1034\n",
            "Epoch 8/200\n",
            "14/14 [==============================] - 0s 12ms/step - loss: 3.1385 - accuracy: 0.0962 - val_loss: 3.0035 - val_accuracy: 0.1034\n",
            "Epoch 9/200\n",
            "14/14 [==============================] - 0s 12ms/step - loss: 3.0872 - accuracy: 0.0951 - val_loss: 2.9611 - val_accuracy: 0.0876\n",
            "Epoch 10/200\n",
            "14/14 [==============================] - 0s 11ms/step - loss: 2.9322 - accuracy: 0.1046 - val_loss: 2.8397 - val_accuracy: 0.1685\n",
            "Epoch 11/200\n",
            "14/14 [==============================] - 0s 11ms/step - loss: 2.7648 - accuracy: 0.1389 - val_loss: 2.6932 - val_accuracy: 0.1461\n",
            "Epoch 12/200\n",
            "14/14 [==============================] - 0s 11ms/step - loss: 2.6380 - accuracy: 0.1569 - val_loss: 2.5891 - val_accuracy: 0.2000\n",
            "Epoch 13/200\n",
            "14/14 [==============================] - 0s 12ms/step - loss: 2.5481 - accuracy: 0.1580 - val_loss: 2.4877 - val_accuracy: 0.1955\n",
            "Epoch 14/200\n",
            "14/14 [==============================] - 0s 11ms/step - loss: 2.4300 - accuracy: 0.2058 - val_loss: 2.3546 - val_accuracy: 0.2427\n",
            "Epoch 15/200\n",
            "14/14 [==============================] - 0s 12ms/step - loss: 2.3232 - accuracy: 0.2171 - val_loss: 2.2939 - val_accuracy: 0.2809\n",
            "Epoch 16/200\n",
            "14/14 [==============================] - 0s 11ms/step - loss: 2.2272 - accuracy: 0.2638 - val_loss: 2.2934 - val_accuracy: 0.1933\n",
            "Epoch 17/200\n",
            "14/14 [==============================] - 0s 11ms/step - loss: 2.0790 - accuracy: 0.2947 - val_loss: 1.9598 - val_accuracy: 0.3371\n",
            "Epoch 18/200\n",
            "14/14 [==============================] - 0s 12ms/step - loss: 1.9691 - accuracy: 0.3178 - val_loss: 1.9336 - val_accuracy: 0.2921\n",
            "Epoch 19/200\n",
            "14/14 [==============================] - 0s 11ms/step - loss: 1.9150 - accuracy: 0.3481 - val_loss: 1.8007 - val_accuracy: 0.4517\n",
            "Epoch 20/200\n",
            "14/14 [==============================] - 0s 11ms/step - loss: 1.7064 - accuracy: 0.4044 - val_loss: 1.5907 - val_accuracy: 0.5303\n",
            "Epoch 21/200\n",
            "14/14 [==============================] - 0s 12ms/step - loss: 1.6170 - accuracy: 0.4550 - val_loss: 1.7414 - val_accuracy: 0.4966\n",
            "Epoch 22/200\n",
            "14/14 [==============================] - 0s 11ms/step - loss: 1.5117 - accuracy: 0.4781 - val_loss: 1.4985 - val_accuracy: 0.5191\n",
            "Epoch 23/200\n",
            "14/14 [==============================] - 0s 12ms/step - loss: 1.3845 - accuracy: 0.5264 - val_loss: 1.4287 - val_accuracy: 0.4989\n",
            "Epoch 24/200\n",
            "14/14 [==============================] - 0s 11ms/step - loss: 1.4065 - accuracy: 0.5135 - val_loss: 1.3498 - val_accuracy: 0.5213\n",
            "Epoch 25/200\n",
            "14/14 [==============================] - 0s 11ms/step - loss: 1.3095 - accuracy: 0.5472 - val_loss: 1.3200 - val_accuracy: 0.6067\n",
            "Epoch 26/200\n",
            "14/14 [==============================] - 0s 12ms/step - loss: 1.1819 - accuracy: 0.5877 - val_loss: 1.1792 - val_accuracy: 0.6517\n",
            "Epoch 27/200\n",
            "14/14 [==============================] - 0s 11ms/step - loss: 1.0732 - accuracy: 0.6310 - val_loss: 1.0424 - val_accuracy: 0.6607\n",
            "Epoch 28/200\n",
            "14/14 [==============================] - 0s 11ms/step - loss: 0.9094 - accuracy: 0.6744 - val_loss: 0.9636 - val_accuracy: 0.7124\n",
            "Epoch 29/200\n",
            "14/14 [==============================] - 0s 11ms/step - loss: 0.8208 - accuracy: 0.7148 - val_loss: 0.9169 - val_accuracy: 0.7640\n",
            "Epoch 30/200\n",
            "14/14 [==============================] - 0s 11ms/step - loss: 0.7869 - accuracy: 0.7418 - val_loss: 0.9026 - val_accuracy: 0.7820\n",
            "Epoch 31/200\n",
            "14/14 [==============================] - 0s 11ms/step - loss: 0.7573 - accuracy: 0.7486 - val_loss: 0.8352 - val_accuracy: 0.8135\n",
            "Epoch 32/200\n",
            "14/14 [==============================] - 0s 12ms/step - loss: 0.5982 - accuracy: 0.8110 - val_loss: 0.7310 - val_accuracy: 0.8270\n",
            "Epoch 33/200\n",
            "14/14 [==============================] - 0s 11ms/step - loss: 0.5384 - accuracy: 0.8144 - val_loss: 0.8233 - val_accuracy: 0.8427\n",
            "Epoch 34/200\n",
            "14/14 [==============================] - 0s 11ms/step - loss: 0.5078 - accuracy: 0.8380 - val_loss: 0.7588 - val_accuracy: 0.8382\n",
            "Epoch 35/200\n",
            "14/14 [==============================] - 0s 11ms/step - loss: 0.5461 - accuracy: 0.8195 - val_loss: 1.0684 - val_accuracy: 0.7978\n",
            "Epoch 36/200\n",
            "14/14 [==============================] - 0s 11ms/step - loss: 0.6758 - accuracy: 0.7953 - val_loss: 0.6992 - val_accuracy: 0.8472\n",
            "Epoch 37/200\n",
            "14/14 [==============================] - 0s 11ms/step - loss: 0.4609 - accuracy: 0.8487 - val_loss: 0.6995 - val_accuracy: 0.8562\n",
            "Epoch 38/200\n",
            "14/14 [==============================] - 0s 13ms/step - loss: 0.3991 - accuracy: 0.8768 - val_loss: 0.7957 - val_accuracy: 0.8360\n",
            "Epoch 39/200\n",
            "14/14 [==============================] - 0s 11ms/step - loss: 0.4208 - accuracy: 0.8583 - val_loss: 0.8071 - val_accuracy: 0.8427\n",
            "Epoch 40/200\n",
            "14/14 [==============================] - 0s 11ms/step - loss: 0.3673 - accuracy: 0.8808 - val_loss: 0.5158 - val_accuracy: 0.8742\n",
            "Epoch 41/200\n",
            "14/14 [==============================] - 0s 11ms/step - loss: 0.3095 - accuracy: 0.8858 - val_loss: 0.6215 - val_accuracy: 0.8831\n",
            "Epoch 42/200\n",
            "14/14 [==============================] - 0s 12ms/step - loss: 0.2471 - accuracy: 0.9151 - val_loss: 0.6790 - val_accuracy: 0.8944\n",
            "Epoch 43/200\n",
            "14/14 [==============================] - 0s 11ms/step - loss: 0.2350 - accuracy: 0.9291 - val_loss: 0.8189 - val_accuracy: 0.8899\n",
            "Epoch 44/200\n",
            "14/14 [==============================] - 0s 13ms/step - loss: 0.2758 - accuracy: 0.9128 - val_loss: 0.5621 - val_accuracy: 0.8989\n",
            "Epoch 45/200\n",
            "14/14 [==============================] - 0s 11ms/step - loss: 0.2748 - accuracy: 0.9173 - val_loss: 0.6543 - val_accuracy: 0.8831\n",
            "Epoch 46/200\n",
            "14/14 [==============================] - 0s 12ms/step - loss: 0.2483 - accuracy: 0.9252 - val_loss: 0.7877 - val_accuracy: 0.9079\n",
            "Epoch 47/200\n",
            "14/14 [==============================] - 0s 12ms/step - loss: 0.1864 - accuracy: 0.9438 - val_loss: 0.6739 - val_accuracy: 0.9124\n",
            "Epoch 48/200\n",
            "14/14 [==============================] - 0s 11ms/step - loss: 0.2298 - accuracy: 0.9353 - val_loss: 0.5557 - val_accuracy: 0.9169\n",
            "Epoch 49/200\n",
            "14/14 [==============================] - 0s 12ms/step - loss: 0.2127 - accuracy: 0.9303 - val_loss: 0.6128 - val_accuracy: 0.9011\n",
            "Epoch 50/200\n",
            "14/14 [==============================] - 0s 11ms/step - loss: 0.1858 - accuracy: 0.9460 - val_loss: 0.5163 - val_accuracy: 0.9213\n",
            "Epoch 51/200\n",
            "14/14 [==============================] - 0s 12ms/step - loss: 0.1790 - accuracy: 0.9466 - val_loss: 0.6116 - val_accuracy: 0.9213\n",
            "Epoch 52/200\n",
            "14/14 [==============================] - 0s 12ms/step - loss: 0.1475 - accuracy: 0.9584 - val_loss: 0.6362 - val_accuracy: 0.9191\n",
            "Epoch 53/200\n",
            "14/14 [==============================] - 0s 11ms/step - loss: 0.1481 - accuracy: 0.9595 - val_loss: 0.6832 - val_accuracy: 0.9213\n",
            "Epoch 54/200\n",
            "14/14 [==============================] - 0s 11ms/step - loss: 0.1757 - accuracy: 0.9483 - val_loss: 0.5835 - val_accuracy: 0.9169\n",
            "Epoch 55/200\n",
            "14/14 [==============================] - 0s 11ms/step - loss: 0.2305 - accuracy: 0.9308 - val_loss: 0.5398 - val_accuracy: 0.8989\n",
            "Epoch 56/200\n",
            "14/14 [==============================] - 0s 12ms/step - loss: 0.1911 - accuracy: 0.9432 - val_loss: 0.5508 - val_accuracy: 0.9079\n",
            "Epoch 57/200\n",
            "14/14 [==============================] - 0s 11ms/step - loss: 0.1378 - accuracy: 0.9606 - val_loss: 0.4845 - val_accuracy: 0.9191\n",
            "Epoch 58/200\n",
            "14/14 [==============================] - 0s 11ms/step - loss: 0.1052 - accuracy: 0.9724 - val_loss: 0.4882 - val_accuracy: 0.9258\n",
            "Epoch 59/200\n",
            "14/14 [==============================] - 0s 12ms/step - loss: 0.0958 - accuracy: 0.9691 - val_loss: 0.4942 - val_accuracy: 0.9326\n",
            "Epoch 60/200\n",
            "14/14 [==============================] - 0s 11ms/step - loss: 0.0847 - accuracy: 0.9741 - val_loss: 0.4560 - val_accuracy: 0.9438\n",
            "Epoch 61/200\n",
            "14/14 [==============================] - 0s 11ms/step - loss: 0.0791 - accuracy: 0.9775 - val_loss: 0.4739 - val_accuracy: 0.9416\n",
            "Epoch 62/200\n",
            "14/14 [==============================] - 0s 12ms/step - loss: 0.1028 - accuracy: 0.9786 - val_loss: 0.4924 - val_accuracy: 0.9416\n",
            "Epoch 63/200\n",
            "14/14 [==============================] - 0s 11ms/step - loss: 0.1077 - accuracy: 0.9685 - val_loss: 0.5393 - val_accuracy: 0.9393\n",
            "Epoch 64/200\n",
            "14/14 [==============================] - 0s 11ms/step - loss: 0.1122 - accuracy: 0.9708 - val_loss: 0.4752 - val_accuracy: 0.9393\n",
            "Epoch 65/200\n",
            "14/14 [==============================] - 0s 11ms/step - loss: 0.1509 - accuracy: 0.9696 - val_loss: 0.3755 - val_accuracy: 0.9461\n",
            "Epoch 66/200\n",
            "14/14 [==============================] - 0s 11ms/step - loss: 0.0709 - accuracy: 0.9848 - val_loss: 0.4621 - val_accuracy: 0.9438\n",
            "Epoch 67/200\n",
            "14/14 [==============================] - 0s 11ms/step - loss: 0.0517 - accuracy: 0.9865 - val_loss: 0.4605 - val_accuracy: 0.9551\n",
            "Epoch 68/200\n",
            "14/14 [==============================] - 0s 12ms/step - loss: 0.0568 - accuracy: 0.9871 - val_loss: 0.4854 - val_accuracy: 0.9461\n",
            "Epoch 69/200\n",
            "14/14 [==============================] - 0s 11ms/step - loss: 0.0452 - accuracy: 0.9871 - val_loss: 0.5524 - val_accuracy: 0.9506\n",
            "Epoch 70/200\n",
            "14/14 [==============================] - 0s 11ms/step - loss: 0.0477 - accuracy: 0.9888 - val_loss: 0.4900 - val_accuracy: 0.9506\n",
            "Epoch 71/200\n",
            "14/14 [==============================] - 0s 11ms/step - loss: 0.0415 - accuracy: 0.9893 - val_loss: 0.4206 - val_accuracy: 0.9438\n",
            "Epoch 72/200\n",
            "14/14 [==============================] - 0s 12ms/step - loss: 0.0556 - accuracy: 0.9826 - val_loss: 0.5351 - val_accuracy: 0.9371\n",
            "Epoch 73/200\n",
            "14/14 [==============================] - 0s 11ms/step - loss: 0.0674 - accuracy: 0.9848 - val_loss: 0.5537 - val_accuracy: 0.9438\n",
            "Epoch 74/200\n",
            "14/14 [==============================] - 0s 12ms/step - loss: 0.1433 - accuracy: 0.9651 - val_loss: 0.5000 - val_accuracy: 0.9506\n",
            "Epoch 75/200\n",
            "14/14 [==============================] - 0s 11ms/step - loss: 0.1043 - accuracy: 0.9708 - val_loss: 0.5075 - val_accuracy: 0.9326\n",
            "Epoch 76/200\n",
            "14/14 [==============================] - 0s 11ms/step - loss: 0.0530 - accuracy: 0.9865 - val_loss: 0.4770 - val_accuracy: 0.9461\n",
            "Epoch 77/200\n",
            "14/14 [==============================] - 0s 12ms/step - loss: 0.0493 - accuracy: 0.9865 - val_loss: 0.4216 - val_accuracy: 0.9506\n",
            "Epoch 78/200\n",
            "14/14 [==============================] - 0s 12ms/step - loss: 0.0373 - accuracy: 0.9904 - val_loss: 0.4096 - val_accuracy: 0.9416\n",
            "Epoch 79/200\n",
            "14/14 [==============================] - 0s 11ms/step - loss: 0.0422 - accuracy: 0.9871 - val_loss: 0.5323 - val_accuracy: 0.9483\n",
            "Epoch 80/200\n",
            "14/14 [==============================] - 0s 12ms/step - loss: 0.0747 - accuracy: 0.9859 - val_loss: 0.4455 - val_accuracy: 0.9483\n",
            "Epoch 81/200\n",
            "14/14 [==============================] - 0s 11ms/step - loss: 0.0359 - accuracy: 0.9910 - val_loss: 0.3437 - val_accuracy: 0.9438\n",
            "Epoch 82/200\n",
            "14/14 [==============================] - 0s 11ms/step - loss: 0.0378 - accuracy: 0.9904 - val_loss: 0.3603 - val_accuracy: 0.9461\n",
            "Epoch 83/200\n",
            "14/14 [==============================] - 0s 12ms/step - loss: 0.0542 - accuracy: 0.9854 - val_loss: 0.5520 - val_accuracy: 0.9551\n",
            "Epoch 84/200\n",
            "14/14 [==============================] - 0s 11ms/step - loss: 0.0472 - accuracy: 0.9882 - val_loss: 0.5703 - val_accuracy: 0.9461\n",
            "Epoch 85/200\n",
            "14/14 [==============================] - 0s 11ms/step - loss: 0.0322 - accuracy: 0.9916 - val_loss: 0.5556 - val_accuracy: 0.9506\n",
            "Epoch 86/200\n",
            "14/14 [==============================] - 0s 12ms/step - loss: 0.0464 - accuracy: 0.9888 - val_loss: 0.6181 - val_accuracy: 0.9528\n",
            "Epoch 87/200\n",
            "14/14 [==============================] - 0s 12ms/step - loss: 0.0213 - accuracy: 0.9955 - val_loss: 0.6307 - val_accuracy: 0.9461\n",
            "Epoch 88/200\n",
            "14/14 [==============================] - 0s 11ms/step - loss: 0.0217 - accuracy: 0.9944 - val_loss: 0.6062 - val_accuracy: 0.9596\n",
            "Epoch 89/200\n",
            "14/14 [==============================] - 0s 11ms/step - loss: 0.0295 - accuracy: 0.9938 - val_loss: 0.6629 - val_accuracy: 0.9506\n",
            "Epoch 90/200\n",
            "14/14 [==============================] - 0s 11ms/step - loss: 0.0265 - accuracy: 0.9916 - val_loss: 0.6012 - val_accuracy: 0.9438\n",
            "Epoch 91/200\n",
            "14/14 [==============================] - 0s 12ms/step - loss: 0.0423 - accuracy: 0.9899 - val_loss: 0.5852 - val_accuracy: 0.9506\n",
            "Epoch 92/200\n",
            "14/14 [==============================] - 0s 11ms/step - loss: 0.0388 - accuracy: 0.9921 - val_loss: 0.4943 - val_accuracy: 0.9506\n",
            "Epoch 93/200\n",
            "14/14 [==============================] - 0s 11ms/step - loss: 0.0361 - accuracy: 0.9904 - val_loss: 0.7899 - val_accuracy: 0.9528\n",
            "Epoch 94/200\n",
            "14/14 [==============================] - 0s 12ms/step - loss: 0.0686 - accuracy: 0.9820 - val_loss: 0.7147 - val_accuracy: 0.9506\n",
            "Epoch 95/200\n",
            "14/14 [==============================] - 0s 11ms/step - loss: 0.1353 - accuracy: 0.9753 - val_loss: 0.4401 - val_accuracy: 0.9461\n",
            "Epoch 96/200\n",
            "14/14 [==============================] - 0s 11ms/step - loss: 0.1005 - accuracy: 0.9769 - val_loss: 0.4492 - val_accuracy: 0.9528\n",
            "Epoch 97/200\n",
            "14/14 [==============================] - 0s 12ms/step - loss: 0.0618 - accuracy: 0.9820 - val_loss: 0.4206 - val_accuracy: 0.9438\n",
            "Epoch 98/200\n",
            "14/14 [==============================] - 0s 12ms/step - loss: 0.0541 - accuracy: 0.9882 - val_loss: 0.3110 - val_accuracy: 0.9573\n",
            "Epoch 99/200\n",
            "14/14 [==============================] - 0s 11ms/step - loss: 0.0659 - accuracy: 0.9871 - val_loss: 0.3009 - val_accuracy: 0.9640\n",
            "Epoch 100/200\n",
            "14/14 [==============================] - 0s 11ms/step - loss: 0.0402 - accuracy: 0.9933 - val_loss: 0.3112 - val_accuracy: 0.9618\n",
            "Epoch 101/200\n",
            "14/14 [==============================] - 0s 11ms/step - loss: 0.0282 - accuracy: 0.9933 - val_loss: 0.5002 - val_accuracy: 0.9551\n",
            "Epoch 102/200\n",
            "14/14 [==============================] - 0s 11ms/step - loss: 0.0313 - accuracy: 0.9899 - val_loss: 0.5251 - val_accuracy: 0.9528\n",
            "Epoch 103/200\n",
            "14/14 [==============================] - 0s 12ms/step - loss: 0.0218 - accuracy: 0.9955 - val_loss: 0.4467 - val_accuracy: 0.9573\n",
            "Epoch 104/200\n",
            "14/14 [==============================] - 0s 12ms/step - loss: 0.0470 - accuracy: 0.9910 - val_loss: 0.4506 - val_accuracy: 0.9528\n",
            "Epoch 105/200\n",
            "14/14 [==============================] - 0s 12ms/step - loss: 0.0538 - accuracy: 0.9893 - val_loss: 0.4638 - val_accuracy: 0.9528\n",
            "Epoch 106/200\n",
            "14/14 [==============================] - 0s 11ms/step - loss: 0.0434 - accuracy: 0.9893 - val_loss: 0.3655 - val_accuracy: 0.9640\n",
            "Epoch 107/200\n",
            "14/14 [==============================] - 0s 11ms/step - loss: 0.0369 - accuracy: 0.9916 - val_loss: 0.6939 - val_accuracy: 0.9393\n",
            "Epoch 108/200\n",
            "14/14 [==============================] - 0s 11ms/step - loss: 0.1078 - accuracy: 0.9769 - val_loss: 0.6484 - val_accuracy: 0.9371\n",
            "Epoch 109/200\n",
            "14/14 [==============================] - 0s 12ms/step - loss: 0.0822 - accuracy: 0.9786 - val_loss: 0.5115 - val_accuracy: 0.9528\n",
            "Epoch 110/200\n",
            "14/14 [==============================] - 0s 12ms/step - loss: 0.0263 - accuracy: 0.9944 - val_loss: 0.4894 - val_accuracy: 0.9640\n",
            "Epoch 111/200\n",
            "14/14 [==============================] - 0s 12ms/step - loss: 0.0126 - accuracy: 0.9972 - val_loss: 0.4635 - val_accuracy: 0.9596\n",
            "Epoch 112/200\n",
            "14/14 [==============================] - 0s 11ms/step - loss: 0.0156 - accuracy: 0.9961 - val_loss: 0.3922 - val_accuracy: 0.9685\n",
            "Epoch 113/200\n",
            "14/14 [==============================] - 0s 11ms/step - loss: 0.0077 - accuracy: 0.9978 - val_loss: 0.4976 - val_accuracy: 0.9663\n",
            "Epoch 114/200\n",
            "14/14 [==============================] - 0s 11ms/step - loss: 0.0142 - accuracy: 0.9961 - val_loss: 0.5281 - val_accuracy: 0.9596\n",
            "Epoch 115/200\n",
            "14/14 [==============================] - 0s 12ms/step - loss: 0.0482 - accuracy: 0.9927 - val_loss: 0.4086 - val_accuracy: 0.9596\n",
            "Epoch 116/200\n",
            "14/14 [==============================] - 0s 12ms/step - loss: 0.0453 - accuracy: 0.9893 - val_loss: 0.2492 - val_accuracy: 0.9618\n",
            "Epoch 117/200\n",
            "14/14 [==============================] - 0s 12ms/step - loss: 0.0353 - accuracy: 0.9899 - val_loss: 0.3196 - val_accuracy: 0.9573\n",
            "Epoch 118/200\n",
            "14/14 [==============================] - 0s 11ms/step - loss: 0.0329 - accuracy: 0.9933 - val_loss: 0.4888 - val_accuracy: 0.9551\n",
            "Epoch 119/200\n",
            "14/14 [==============================] - 0s 12ms/step - loss: 0.0202 - accuracy: 0.9955 - val_loss: 0.5078 - val_accuracy: 0.9506\n",
            "Epoch 120/200\n",
            "14/14 [==============================] - 0s 11ms/step - loss: 0.0236 - accuracy: 0.9944 - val_loss: 0.4867 - val_accuracy: 0.9573\n",
            "Epoch 121/200\n",
            "14/14 [==============================] - 0s 12ms/step - loss: 0.0163 - accuracy: 0.9944 - val_loss: 0.3309 - val_accuracy: 0.9618\n",
            "Epoch 122/200\n",
            "14/14 [==============================] - 0s 12ms/step - loss: 0.0103 - accuracy: 0.9961 - val_loss: 0.3389 - val_accuracy: 0.9663\n",
            "Epoch 123/200\n",
            "14/14 [==============================] - 0s 12ms/step - loss: 0.0061 - accuracy: 0.9978 - val_loss: 0.3536 - val_accuracy: 0.9708\n",
            "Epoch 124/200\n",
            "14/14 [==============================] - 0s 11ms/step - loss: 0.0068 - accuracy: 0.9983 - val_loss: 0.3641 - val_accuracy: 0.9708\n",
            "Epoch 125/200\n",
            "14/14 [==============================] - 0s 11ms/step - loss: 0.0083 - accuracy: 0.9989 - val_loss: 0.4149 - val_accuracy: 0.9596\n",
            "Epoch 126/200\n",
            "14/14 [==============================] - 0s 12ms/step - loss: 0.0072 - accuracy: 0.9966 - val_loss: 0.4124 - val_accuracy: 0.9640\n",
            "Epoch 127/200\n",
            "14/14 [==============================] - 0s 12ms/step - loss: 0.0040 - accuracy: 0.9989 - val_loss: 0.3919 - val_accuracy: 0.9685\n",
            "Epoch 128/200\n",
            "14/14 [==============================] - 0s 11ms/step - loss: 0.0373 - accuracy: 0.9899 - val_loss: 0.3855 - val_accuracy: 0.9596\n",
            "Epoch 129/200\n",
            "14/14 [==============================] - 0s 12ms/step - loss: 0.0983 - accuracy: 0.9781 - val_loss: 0.5741 - val_accuracy: 0.9191\n",
            "Epoch 130/200\n",
            "14/14 [==============================] - 0s 11ms/step - loss: 0.0895 - accuracy: 0.9831 - val_loss: 0.4286 - val_accuracy: 0.9551\n",
            "Epoch 131/200\n",
            "14/14 [==============================] - 0s 12ms/step - loss: 0.0583 - accuracy: 0.9876 - val_loss: 0.3391 - val_accuracy: 0.9640\n",
            "Epoch 132/200\n",
            "14/14 [==============================] - 0s 12ms/step - loss: 0.0476 - accuracy: 0.9882 - val_loss: 0.3383 - val_accuracy: 0.9551\n",
            "Epoch 133/200\n",
            "14/14 [==============================] - 0s 12ms/step - loss: 0.0457 - accuracy: 0.9871 - val_loss: 0.3989 - val_accuracy: 0.9528\n",
            "Epoch 134/200\n",
            "14/14 [==============================] - 0s 12ms/step - loss: 0.0474 - accuracy: 0.9910 - val_loss: 0.2714 - val_accuracy: 0.9528\n",
            "Epoch 135/200\n",
            "14/14 [==============================] - 0s 11ms/step - loss: 0.0462 - accuracy: 0.9904 - val_loss: 0.3366 - val_accuracy: 0.9483\n",
            "Epoch 136/200\n",
            "14/14 [==============================] - 0s 11ms/step - loss: 0.0502 - accuracy: 0.9876 - val_loss: 0.4518 - val_accuracy: 0.9596\n",
            "Epoch 137/200\n",
            "14/14 [==============================] - 0s 11ms/step - loss: 0.0285 - accuracy: 0.9933 - val_loss: 0.2981 - val_accuracy: 0.9551\n",
            "Epoch 138/200\n",
            "14/14 [==============================] - 0s 12ms/step - loss: 0.0318 - accuracy: 0.9933 - val_loss: 0.2898 - val_accuracy: 0.9663\n",
            "Epoch 139/200\n",
            "14/14 [==============================] - 0s 12ms/step - loss: 0.0252 - accuracy: 0.9961 - val_loss: 0.3078 - val_accuracy: 0.9708\n",
            "Epoch 140/200\n",
            "14/14 [==============================] - 0s 11ms/step - loss: 0.0148 - accuracy: 0.9966 - val_loss: 0.3302 - val_accuracy: 0.9663\n",
            "Epoch 141/200\n",
            "14/14 [==============================] - 0s 11ms/step - loss: 0.0129 - accuracy: 0.9972 - val_loss: 0.3969 - val_accuracy: 0.9618\n",
            "Epoch 142/200\n",
            "14/14 [==============================] - 0s 12ms/step - loss: 0.0190 - accuracy: 0.9972 - val_loss: 0.3485 - val_accuracy: 0.9618\n",
            "Epoch 143/200\n",
            "14/14 [==============================] - 0s 12ms/step - loss: 0.0148 - accuracy: 0.9949 - val_loss: 0.2755 - val_accuracy: 0.9573\n",
            "Epoch 144/200\n",
            "14/14 [==============================] - 0s 12ms/step - loss: 0.0812 - accuracy: 0.9938 - val_loss: 0.3722 - val_accuracy: 0.9573\n",
            "Epoch 145/200\n",
            "14/14 [==============================] - 0s 12ms/step - loss: 0.0252 - accuracy: 0.9944 - val_loss: 0.2549 - val_accuracy: 0.9573\n",
            "Epoch 146/200\n",
            "14/14 [==============================] - 0s 12ms/step - loss: 0.0187 - accuracy: 0.9955 - val_loss: 0.1957 - val_accuracy: 0.9640\n",
            "Epoch 147/200\n",
            "14/14 [==============================] - 0s 11ms/step - loss: 0.0224 - accuracy: 0.9955 - val_loss: 0.2506 - val_accuracy: 0.9618\n",
            "Epoch 148/200\n",
            "14/14 [==============================] - 0s 11ms/step - loss: 0.0702 - accuracy: 0.9904 - val_loss: 0.2877 - val_accuracy: 0.9551\n",
            "Epoch 149/200\n",
            "14/14 [==============================] - 0s 11ms/step - loss: 0.0615 - accuracy: 0.9865 - val_loss: 0.2572 - val_accuracy: 0.9618\n",
            "Epoch 150/200\n",
            "14/14 [==============================] - 0s 12ms/step - loss: 0.0532 - accuracy: 0.9865 - val_loss: 0.6526 - val_accuracy: 0.9281\n",
            "Epoch 151/200\n",
            "14/14 [==============================] - 0s 12ms/step - loss: 0.1190 - accuracy: 0.9798 - val_loss: 0.3878 - val_accuracy: 0.9528\n",
            "Epoch 152/200\n",
            "14/14 [==============================] - 0s 12ms/step - loss: 0.0328 - accuracy: 0.9938 - val_loss: 0.2469 - val_accuracy: 0.9708\n",
            "Epoch 153/200\n",
            "14/14 [==============================] - 0s 12ms/step - loss: 0.0263 - accuracy: 0.9921 - val_loss: 0.2288 - val_accuracy: 0.9685\n",
            "Epoch 154/200\n",
            "14/14 [==============================] - 0s 12ms/step - loss: 0.0191 - accuracy: 0.9961 - val_loss: 0.2739 - val_accuracy: 0.9596\n",
            "Epoch 155/200\n",
            "14/14 [==============================] - 0s 11ms/step - loss: 0.0253 - accuracy: 0.9938 - val_loss: 0.3103 - val_accuracy: 0.9640\n",
            "Epoch 156/200\n",
            "14/14 [==============================] - 0s 12ms/step - loss: 0.0189 - accuracy: 0.9955 - val_loss: 0.3349 - val_accuracy: 0.9596\n",
            "Epoch 157/200\n",
            "14/14 [==============================] - 0s 12ms/step - loss: 0.0390 - accuracy: 0.9933 - val_loss: 0.3565 - val_accuracy: 0.9573\n",
            "Epoch 158/200\n",
            "14/14 [==============================] - 0s 11ms/step - loss: 0.0227 - accuracy: 0.9961 - val_loss: 0.3693 - val_accuracy: 0.9506\n",
            "Epoch 159/200\n",
            "14/14 [==============================] - 0s 12ms/step - loss: 0.0489 - accuracy: 0.9904 - val_loss: 0.3014 - val_accuracy: 0.9438\n",
            "Epoch 160/200\n",
            "14/14 [==============================] - 0s 11ms/step - loss: 0.0656 - accuracy: 0.9876 - val_loss: 0.3037 - val_accuracy: 0.9573\n",
            "Epoch 161/200\n",
            "14/14 [==============================] - 0s 11ms/step - loss: 0.0426 - accuracy: 0.9893 - val_loss: 0.2790 - val_accuracy: 0.9596\n",
            "Epoch 162/200\n",
            "14/14 [==============================] - 0s 11ms/step - loss: 0.0155 - accuracy: 0.9972 - val_loss: 0.3665 - val_accuracy: 0.9573\n",
            "Epoch 163/200\n",
            "14/14 [==============================] - 0s 12ms/step - loss: 0.0223 - accuracy: 0.9944 - val_loss: 0.2895 - val_accuracy: 0.9551\n",
            "Epoch 164/200\n",
            "14/14 [==============================] - 0s 11ms/step - loss: 0.0288 - accuracy: 0.9966 - val_loss: 0.3197 - val_accuracy: 0.9618\n",
            "Epoch 165/200\n",
            "14/14 [==============================] - 0s 11ms/step - loss: 0.0135 - accuracy: 0.9966 - val_loss: 0.3166 - val_accuracy: 0.9596\n",
            "Epoch 166/200\n",
            "14/14 [==============================] - 0s 11ms/step - loss: 0.0124 - accuracy: 0.9978 - val_loss: 0.3068 - val_accuracy: 0.9685\n",
            "Epoch 167/200\n",
            "14/14 [==============================] - 0s 11ms/step - loss: 0.0111 - accuracy: 0.9978 - val_loss: 0.2730 - val_accuracy: 0.9685\n",
            "Epoch 168/200\n",
            "14/14 [==============================] - 0s 12ms/step - loss: 0.0063 - accuracy: 0.9983 - val_loss: 0.2916 - val_accuracy: 0.9663\n",
            "Epoch 169/200\n",
            "14/14 [==============================] - 0s 12ms/step - loss: 0.0024 - accuracy: 0.9994 - val_loss: 0.2771 - val_accuracy: 0.9685\n",
            "Epoch 170/200\n",
            "14/14 [==============================] - 0s 11ms/step - loss: 0.0119 - accuracy: 0.9966 - val_loss: 0.3764 - val_accuracy: 0.9596\n",
            "Epoch 171/200\n",
            "14/14 [==============================] - 0s 11ms/step - loss: 0.1088 - accuracy: 0.9837 - val_loss: 0.4015 - val_accuracy: 0.9461\n",
            "Epoch 172/200\n",
            "14/14 [==============================] - 0s 11ms/step - loss: 0.1597 - accuracy: 0.9668 - val_loss: 0.3421 - val_accuracy: 0.9438\n",
            "Epoch 173/200\n",
            "14/14 [==============================] - 0s 11ms/step - loss: 0.0597 - accuracy: 0.9865 - val_loss: 0.3594 - val_accuracy: 0.9551\n",
            "Epoch 174/200\n",
            "14/14 [==============================] - 0s 12ms/step - loss: 0.0352 - accuracy: 0.9949 - val_loss: 0.2598 - val_accuracy: 0.9708\n",
            "Epoch 175/200\n",
            "14/14 [==============================] - 0s 12ms/step - loss: 0.0252 - accuracy: 0.9966 - val_loss: 0.3298 - val_accuracy: 0.9618\n",
            "Epoch 176/200\n",
            "14/14 [==============================] - 0s 11ms/step - loss: 0.0424 - accuracy: 0.9910 - val_loss: 0.3464 - val_accuracy: 0.9618\n",
            "Epoch 177/200\n",
            "14/14 [==============================] - 0s 11ms/step - loss: 0.0246 - accuracy: 0.9933 - val_loss: 0.3599 - val_accuracy: 0.9618\n",
            "Epoch 178/200\n",
            "14/14 [==============================] - 0s 11ms/step - loss: 0.0585 - accuracy: 0.9904 - val_loss: 0.4419 - val_accuracy: 0.9483\n",
            "Epoch 179/200\n",
            "14/14 [==============================] - 0s 11ms/step - loss: 0.0423 - accuracy: 0.9904 - val_loss: 0.2548 - val_accuracy: 0.9685\n",
            "Epoch 180/200\n",
            "14/14 [==============================] - 0s 11ms/step - loss: 0.0110 - accuracy: 0.9978 - val_loss: 0.2934 - val_accuracy: 0.9685\n",
            "Epoch 181/200\n",
            "14/14 [==============================] - 0s 12ms/step - loss: 0.0180 - accuracy: 0.9972 - val_loss: 0.3610 - val_accuracy: 0.9640\n",
            "Epoch 182/200\n",
            "14/14 [==============================] - 0s 12ms/step - loss: 0.0123 - accuracy: 0.9966 - val_loss: 0.3378 - val_accuracy: 0.9640\n",
            "Epoch 183/200\n",
            "14/14 [==============================] - 0s 11ms/step - loss: 0.0055 - accuracy: 0.9994 - val_loss: 0.3092 - val_accuracy: 0.9640\n",
            "Epoch 184/200\n",
            "14/14 [==============================] - 0s 12ms/step - loss: 0.0073 - accuracy: 0.9983 - val_loss: 0.2838 - val_accuracy: 0.9618\n",
            "Epoch 185/200\n",
            "14/14 [==============================] - 0s 12ms/step - loss: 0.0049 - accuracy: 0.9994 - val_loss: 0.3521 - val_accuracy: 0.9640\n",
            "Epoch 186/200\n",
            "14/14 [==============================] - 0s 12ms/step - loss: 0.0092 - accuracy: 0.9983 - val_loss: 0.3424 - val_accuracy: 0.9618\n",
            "Epoch 187/200\n",
            "14/14 [==============================] - 0s 12ms/step - loss: 0.0012 - accuracy: 1.0000 - val_loss: 0.1978 - val_accuracy: 0.9708\n",
            "Epoch 188/200\n",
            "14/14 [==============================] - 0s 11ms/step - loss: 0.0030 - accuracy: 0.9989 - val_loss: 0.3603 - val_accuracy: 0.9708\n",
            "Epoch 189/200\n",
            "14/14 [==============================] - 0s 11ms/step - loss: 0.0019 - accuracy: 0.9989 - val_loss: 0.3948 - val_accuracy: 0.9685\n",
            "Epoch 190/200\n",
            "14/14 [==============================] - 0s 12ms/step - loss: 0.0067 - accuracy: 0.9978 - val_loss: 0.4360 - val_accuracy: 0.9685\n",
            "Epoch 191/200\n",
            "14/14 [==============================] - 0s 12ms/step - loss: 0.0039 - accuracy: 0.9983 - val_loss: 0.4296 - val_accuracy: 0.9663\n",
            "Epoch 192/200\n",
            "14/14 [==============================] - 0s 11ms/step - loss: 0.0102 - accuracy: 0.9983 - val_loss: 0.3521 - val_accuracy: 0.9663\n",
            "Epoch 193/200\n",
            "14/14 [==============================] - 0s 12ms/step - loss: 0.0953 - accuracy: 0.9876 - val_loss: 0.3154 - val_accuracy: 0.9640\n",
            "Epoch 194/200\n",
            "14/14 [==============================] - 0s 11ms/step - loss: 0.0635 - accuracy: 0.9871 - val_loss: 0.1924 - val_accuracy: 0.9730\n",
            "Epoch 195/200\n",
            "14/14 [==============================] - 0s 12ms/step - loss: 0.0574 - accuracy: 0.9871 - val_loss: 0.2011 - val_accuracy: 0.9640\n",
            "Epoch 196/200\n",
            "14/14 [==============================] - 0s 11ms/step - loss: 0.0365 - accuracy: 0.9916 - val_loss: 0.4757 - val_accuracy: 0.9663\n",
            "Epoch 197/200\n",
            "14/14 [==============================] - 0s 12ms/step - loss: 0.0586 - accuracy: 0.9910 - val_loss: 0.4781 - val_accuracy: 0.9506\n",
            "Epoch 198/200\n",
            "14/14 [==============================] - 0s 11ms/step - loss: 0.1135 - accuracy: 0.9798 - val_loss: 0.3279 - val_accuracy: 0.9551\n",
            "Epoch 199/200\n",
            "14/14 [==============================] - 0s 12ms/step - loss: 0.0223 - accuracy: 0.9972 - val_loss: 0.2427 - val_accuracy: 0.9753\n",
            "Epoch 200/200\n",
            "14/14 [==============================] - 0s 11ms/step - loss: 0.0254 - accuracy: 0.9955 - val_loss: 0.2316 - val_accuracy: 0.9753\n"
          ],
          "name": "stdout"
        }
      ]
    },
    {
      "cell_type": "code",
      "metadata": {
        "id": "-UdDBW6jtXIF",
        "colab_type": "code",
        "colab": {}
      },
      "source": [
        "data_test_set_province=pd.read_csv('/content/drive/My Drive/Colab Notebooks/test_data_province.csv').values\n",
        "x_province_test=np.reshape(data_test_set_province[:,0:-1]/255,(-1,20,20,1))\n",
        "y_province_test=to_categorical(data_test_set_province[:,-1].astype(\"int64\"))"
      ],
      "execution_count": null,
      "outputs": []
    },
    {
      "cell_type": "code",
      "metadata": {
        "id": "tjKO9Aloth6a",
        "colab_type": "code",
        "colab": {
          "base_uri": "https://localhost:8080/",
          "height": 51
        },
        "outputId": "c934eea8-a41a-490f-ecb4-32620734d02b"
      },
      "source": [
        "model_province.evaluate(x_province_test,y_province_test)"
      ],
      "execution_count": null,
      "outputs": [
        {
          "output_type": "stream",
          "text": [
            "18/18 [==============================] - 0s 4ms/step - loss: 0.1887 - accuracy: 0.9676\n"
          ],
          "name": "stdout"
        },
        {
          "output_type": "execute_result",
          "data": {
            "text/plain": [
              "[0.18874643743038177, 0.9676259160041809]"
            ]
          },
          "metadata": {
            "tags": []
          },
          "execution_count": 103
        }
      ]
    },
    {
      "cell_type": "code",
      "metadata": {
        "id": "IneLa4gpJQjd",
        "colab_type": "code",
        "colab": {
          "base_uri": "https://localhost:8080/",
          "height": 1000
        },
        "outputId": "e9600ea1-859e-49b6-e615-1bb7b18ab283"
      },
      "source": [
        "model_province.summary()"
      ],
      "execution_count": null,
      "outputs": [
        {
          "output_type": "stream",
          "text": [
            "Model: \"sequential_31\"\n",
            "_________________________________________________________________\n",
            "Layer (type)                 Output Shape              Param #   \n",
            "=================================================================\n",
            "conv2d_103 (Conv2D)          (None, 20, 20, 32)        320       \n",
            "_________________________________________________________________\n",
            "conv2d_104 (Conv2D)          (None, 20, 20, 32)        9248      \n",
            "_________________________________________________________________\n",
            "max_pooling2d_66 (MaxPooling (None, 10, 10, 32)        0         \n",
            "_________________________________________________________________\n",
            "dropout_46 (Dropout)         (None, 10, 10, 32)        0         \n",
            "_________________________________________________________________\n",
            "conv2d_105 (Conv2D)          (None, 10, 10, 64)        18496     \n",
            "_________________________________________________________________\n",
            "conv2d_106 (Conv2D)          (None, 10, 10, 64)        36928     \n",
            "_________________________________________________________________\n",
            "max_pooling2d_67 (MaxPooling (None, 5, 5, 64)          0         \n",
            "_________________________________________________________________\n",
            "dropout_47 (Dropout)         (None, 5, 5, 64)          0         \n",
            "_________________________________________________________________\n",
            "conv2d_107 (Conv2D)          (None, 5, 5, 128)         73856     \n",
            "_________________________________________________________________\n",
            "conv2d_108 (Conv2D)          (None, 5, 5, 128)         147584    \n",
            "_________________________________________________________________\n",
            "conv2d_109 (Conv2D)          (None, 5, 5, 128)         147584    \n",
            "_________________________________________________________________\n",
            "max_pooling2d_68 (MaxPooling (None, 2, 2, 128)         0         \n",
            "_________________________________________________________________\n",
            "dropout_48 (Dropout)         (None, 2, 2, 128)         0         \n",
            "_________________________________________________________________\n",
            "conv2d_110 (Conv2D)          (None, 2, 2, 256)         295168    \n",
            "_________________________________________________________________\n",
            "conv2d_111 (Conv2D)          (None, 2, 2, 256)         590080    \n",
            "_________________________________________________________________\n",
            "conv2d_112 (Conv2D)          (None, 2, 2, 256)         590080    \n",
            "_________________________________________________________________\n",
            "max_pooling2d_69 (MaxPooling (None, 1, 1, 256)         0         \n",
            "_________________________________________________________________\n",
            "dropout_49 (Dropout)         (None, 1, 1, 256)         0         \n",
            "_________________________________________________________________\n",
            "flatten_31 (Flatten)         (None, 256)               0         \n",
            "_________________________________________________________________\n",
            "dense_58 (Dense)             (None, 512)               131584    \n",
            "_________________________________________________________________\n",
            "activation_50 (Activation)   (None, 512)               0         \n",
            "_________________________________________________________________\n",
            "dropout_50 (Dropout)         (None, 512)               0         \n",
            "_________________________________________________________________\n",
            "dense_59 (Dense)             (None, 512)               262656    \n",
            "_________________________________________________________________\n",
            "activation_51 (Activation)   (None, 512)               0         \n",
            "_________________________________________________________________\n",
            "dropout_51 (Dropout)         (None, 512)               0         \n",
            "_________________________________________________________________\n",
            "dense_60 (Dense)             (None, 512)               262656    \n",
            "_________________________________________________________________\n",
            "activation_52 (Activation)   (None, 512)               0         \n",
            "_________________________________________________________________\n",
            "dense_61 (Dense)             (None, 31)                15903     \n",
            "_________________________________________________________________\n",
            "activation_53 (Activation)   (None, 31)                0         \n",
            "=================================================================\n",
            "Total params: 2,582,143\n",
            "Trainable params: 2,582,143\n",
            "Non-trainable params: 0\n",
            "_________________________________________________________________\n"
          ],
          "name": "stdout"
        }
      ]
    },
    {
      "cell_type": "code",
      "metadata": {
        "id": "AEave1BHJSyE",
        "colab_type": "code",
        "colab": {
          "base_uri": "https://localhost:8080/",
          "height": 312
        },
        "outputId": "f860c88d-16c9-4824-8648-0b6f8ed7ed66"
      },
      "source": [
        "plt.plot(history_province.history['accuracy'],label=\"train set\")\n",
        "plt.plot(history_province.history['val_accuracy'],label=\"val set\")\n",
        "plt.legend()\n",
        "plt.xlabel(\"epoch\")\n",
        "plt.ylabel(\"accuracy\")\n",
        "plt.title(\"CNN model of Province\")"
      ],
      "execution_count": null,
      "outputs": [
        {
          "output_type": "execute_result",
          "data": {
            "text/plain": [
              "Text(0.5, 1.0, 'CNN modle of Area')"
            ]
          },
          "metadata": {
            "tags": []
          },
          "execution_count": 115
        },
        {
          "output_type": "display_data",
          "data": {
            "image/png": "[encoded data removed]",
            "text/plain": [
              "<Figure size 432x288 with 1 Axes>"
            ]
          },
          "metadata": {
            "tags": [],
            "needs_background": "light"
          }
        }
      ]
    },
    {
      "cell_type": "code",
      "metadata": {
        "id": "LtCPew0PJYWX",
        "colab_type": "code",
        "colab": {
          "base_uri": "https://localhost:8080/",
          "height": 312
        },
        "outputId": "a23dfb6d-235d-4846-ed9d-4452eda512b2"
      },
      "source": [
        "plt.plot(history_province.history['loss'],label=\"train set\")\n",
        "plt.plot(history_province.history['val_loss'],label=\"val set\")\n",
        "plt.legend()\n",
        "plt.xlabel(\"epoch\")\n",
        "plt.ylabel(\"loss\")\n",
        "plt.title(\"CNN model of Province\")"
      ],
      "execution_count": null,
      "outputs": [
        {
          "output_type": "execute_result",
          "data": {
            "text/plain": [
              "Text(0.5, 1.0, 'CNN modle of Area')"
            ]
          },
          "metadata": {
            "tags": []
          },
          "execution_count": 116
        },
        {
          "output_type": "display_data",
          "data": {
            "image/png": "[encoded data removed]",
            "text/plain": [
              "<Figure size 432x288 with 1 Axes>"
            ]
          },
          "metadata": {
            "tags": [],
            "needs_background": "light"
          }
        }
      ]
    }
  ]
}